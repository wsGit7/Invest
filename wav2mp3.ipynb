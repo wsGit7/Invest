{
  "nbformat": 4,
  "nbformat_minor": 0,
  "metadata": {
    "colab": {
      "provenance": [],
      "authorship_tag": "ABX9TyOShwTkNgvCwrODBTdm4vgR",
      "include_colab_link": true
    },
    "kernelspec": {
      "name": "python3",
      "display_name": "Python 3"
    },
    "language_info": {
      "name": "python"
    }
  },
  "cells": [
    {
      "cell_type": "markdown",
      "metadata": {
        "id": "view-in-github",
        "colab_type": "text"
      },
      "source": [
        "<a href=\"https://colab.research.google.com/github/wsGit7/Invest/blob/main/wav2mp3.ipynb\" target=\"_parent\"><img src=\"https://colab.research.google.com/assets/colab-badge.svg\" alt=\"Open In Colab\"/></a>"
      ]
    },
    {
      "cell_type": "code",
      "execution_count": 3,
      "metadata": {
        "colab": {
          "base_uri": "https://localhost:8080/"
        },
        "id": "gEUfE1dyie77",
        "outputId": "32ddae8b-202b-49a8-cb04-62cf1d8ee4ab"
      },
      "outputs": [
        {
          "output_type": "stream",
          "name": "stdout",
          "text": [
            "File converted and saved as output.mp3\n"
          ]
        }
      ],
      "source": [
        "from pydub import AudioSegment\n",
        "\n",
        "# Load the WAV file (replace 'input.wav' with your filename if different)\n",
        "audio = AudioSegment.from_wav(\"/content/Different corner2.wav\")\n",
        "\n",
        "# Export the audio as an MP3 file\n",
        "output_filename = \"output.mp3\"\n",
        "audio.export(output_filename, format=\"mp3\")\n",
        "\n",
        "print(f\"File converted and saved as {output_filename}\")\n"
      ]
    }
  ]
}