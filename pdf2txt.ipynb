{
  "nbformat": 4,
  "nbformat_minor": 0,
  "metadata": {
    "colab": {
      "provenance": [],
      "authorship_tag": "ABX9TyM5twXefzrTmlriV8MmQ3vr",
      "include_colab_link": true
    },
    "kernelspec": {
      "name": "python3",
      "display_name": "Python 3"
    },
    "language_info": {
      "name": "python"
    }
  },
  "cells": [
    {
      "cell_type": "markdown",
      "metadata": {
        "id": "view-in-github",
        "colab_type": "text"
      },
      "source": [
        "<a href=\"https://colab.research.google.com/github/wsGit7/Invest/blob/main/pdf2txt.ipynb\" target=\"_parent\"><img src=\"https://colab.research.google.com/assets/colab-badge.svg\" alt=\"Open In Colab\"/></a>"
      ]
    },
    {
      "cell_type": "code",
      "execution_count": 2,
      "metadata": {
        "colab": {
          "base_uri": "https://localhost:8080/"
        },
        "id": "iLMxMcK7X-CN",
        "outputId": "042e38ff-808b-43ba-b4c8-dc99bf52b09c"
      },
      "outputs": [
        {
          "output_type": "stream",
          "name": "stdout",
          "text": [
            "Collecting PyMuPDF\n",
            "  Downloading pymupdf-1.25.2-cp39-abi3-manylinux2014_x86_64.manylinux_2_17_x86_64.whl.metadata (3.4 kB)\n",
            "Downloading pymupdf-1.25.2-cp39-abi3-manylinux2014_x86_64.manylinux_2_17_x86_64.whl (20.0 MB)\n",
            "\u001b[2K   \u001b[90m━━━━━━━━━━━━━━━━━━━━━━━━━━━━━━━━━━━━━━━━\u001b[0m \u001b[32m20.0/20.0 MB\u001b[0m \u001b[31m52.6 MB/s\u001b[0m eta \u001b[36m0:00:00\u001b[0m\n",
            "\u001b[?25hInstalling collected packages: PyMuPDF\n",
            "Successfully installed PyMuPDF-1.25.2\n"
          ]
        }
      ],
      "source": [
        "pip install PyMuPDF\n"
      ]
    },
    {
      "cell_type": "code",
      "source": [
        "import fitz\n",
        "\n",
        "pdf_document = \"/content/wipo-pub-1080-en-green-technology-book-2022.pdf\"\n",
        "txt_output = \"green2022.txt\"\n",
        "\n",
        "# Otwórz plik PDF\n",
        "pdf = fitz.open(pdf_document)\n",
        "with open(txt_output, \"w\", encoding=\"utf-8\") as txt_file:\n",
        "    for page_num in range(len(pdf)):\n",
        "        page = pdf.load_page(page_num)\n",
        "        text = page.get_text()\n",
        "        txt_file.write(text)\n"
      ],
      "metadata": {
        "id": "BokKLoDbYLe4"
      },
      "execution_count": 4,
      "outputs": []
    },
    {
      "cell_type": "markdown",
      "source": [
        "**compare 2 documents txt**\n"
      ],
      "metadata": {
        "id": "HnvXpOqCl-Qc"
      }
    },
    {
      "cell_type": "code",
      "source": [
        "import difflib\n",
        "\n",
        "def compare_whole_documents(file1_path, file2_path, output_path):\n",
        "    with open(file1_path, 'r') as file1, open(file2_path, 'r') as file2:\n",
        "        file1_text = file1.read()\n",
        "        file2_text = file2.read()\n",
        "\n",
        "    diff = difflib.ndiff(file1_text.splitlines(), file2_text.splitlines())\n",
        "\n",
        "    with open(output_path, 'w') as output_file:\n",
        "        for line in diff:\n",
        "            if line.startswith('+ '):  # Lines added in file2\n",
        "                output_file.write(line[2:] + '\\n')\n",
        "\n",
        "# Usage example\n",
        "file1_path = '/content/green2022.txt'\n",
        "file2_path = '/content/green2023.txt'\n",
        "output_path = 'clown.txt'\n",
        "compare_whole_documents(file1_path, file2_path, output_path)\n"
      ],
      "metadata": {
        "id": "fnvKM1OfmBuk"
      },
      "execution_count": 5,
      "outputs": []
    },
    {
      "cell_type": "markdown",
      "source": [
        "**txt 2 pdf**"
      ],
      "metadata": {
        "id": "lO7DyEeXtHrO"
      }
    },
    {
      "cell_type": "code",
      "source": [
        "pip install fpdf\n"
      ],
      "metadata": {
        "colab": {
          "base_uri": "https://localhost:8080/"
        },
        "id": "RJyswhl1tGWQ",
        "outputId": "f8d17eca-0081-4f76-e6ee-00fc8c2ab6e1"
      },
      "execution_count": 6,
      "outputs": [
        {
          "output_type": "stream",
          "name": "stdout",
          "text": [
            "Collecting fpdf\n",
            "  Downloading fpdf-1.7.2.tar.gz (39 kB)\n",
            "  Preparing metadata (setup.py) ... \u001b[?25l\u001b[?25hdone\n",
            "Building wheels for collected packages: fpdf\n",
            "  Building wheel for fpdf (setup.py) ... \u001b[?25l\u001b[?25hdone\n",
            "  Created wheel for fpdf: filename=fpdf-1.7.2-py2.py3-none-any.whl size=40704 sha256=07cd609f13b6374e667cedc1df4dfabb4eda830a511d593bc21e264e970b2705\n",
            "  Stored in directory: /root/.cache/pip/wheels/65/4f/66/bbda9866da446a72e206d6484cd97381cbc7859a7068541c36\n",
            "Successfully built fpdf\n",
            "Installing collected packages: fpdf\n",
            "Successfully installed fpdf-1.7.2\n"
          ]
        }
      ]
    },
    {
      "cell_type": "code",
      "source": [
        "from fpdf import FPDF\n",
        "\n",
        "def txt_to_pdf(txt_file, pdf_file):\n",
        "    pdf = FPDF()\n",
        "    pdf.set_auto_page_break(auto=True, margin=15)\n",
        "    pdf.add_page()\n",
        "    pdf.set_font(\"Arial\", size=12)\n",
        "\n",
        "    with open(txt_file, 'r') as file:\n",
        "        lines = file.readlines()\n",
        "        for line in lines:\n",
        "            pdf.cell(200, 10, txt=line.encode('latin-1', 'replace').decode('latin-1'), ln=True)\n",
        "\n",
        "    pdf.output(pdf_file)\n",
        "\n",
        "# Usage example\n",
        "txt_file = 'clown.txt'\n",
        "pdf_file = 'greenDiff.pdf'\n",
        "txt_to_pdf(txt_file, pdf_file)\n"
      ],
      "metadata": {
        "id": "5LXOpB9ttfPu"
      },
      "execution_count": 7,
      "outputs": []
    }
  ]
}