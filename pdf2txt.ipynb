{
  "nbformat": 4,
  "nbformat_minor": 0,
  "metadata": {
    "colab": {
      "provenance": [],
      "authorship_tag": "ABX9TyOnquQ/CKgZW9wfR5Z7Vv1w",
      "include_colab_link": true
    },
    "kernelspec": {
      "name": "python3",
      "display_name": "Python 3"
    },
    "language_info": {
      "name": "python"
    }
  },
  "cells": [
    {
      "cell_type": "markdown",
      "metadata": {
        "id": "view-in-github",
        "colab_type": "text"
      },
      "source": [
        "<a href=\"https://colab.research.google.com/github/wsGit7/Invest/blob/main/pdf2txt.ipynb\" target=\"_parent\"><img src=\"https://colab.research.google.com/assets/colab-badge.svg\" alt=\"Open In Colab\"/></a>"
      ]
    },
    {
      "cell_type": "code",
      "source": [
        "pip install PyPDF2"
      ],
      "metadata": {
        "colab": {
          "base_uri": "https://localhost:8080/"
        },
        "id": "bGyJa8z61dan",
        "outputId": "b17b41a0-efce-47a9-ad48-0ca4326de16e"
      },
      "execution_count": null,
      "outputs": [
        {
          "output_type": "stream",
          "name": "stdout",
          "text": [
            "Collecting PyPDF2\n",
            "  Downloading pypdf2-3.0.1-py3-none-any.whl.metadata (6.8 kB)\n",
            "Downloading pypdf2-3.0.1-py3-none-any.whl (232 kB)\n",
            "\u001b[2K   \u001b[90m━━━━━━━━━━━━━━━━━━━━━━━━━━━━━━━━━━━━━━━━\u001b[0m \u001b[32m232.6/232.6 kB\u001b[0m \u001b[31m3.9 MB/s\u001b[0m eta \u001b[36m0:00:00\u001b[0m\n",
            "\u001b[?25hInstalling collected packages: PyPDF2\n",
            "Successfully installed PyPDF2-3.0.1\n"
          ]
        }
      ]
    },
    {
      "cell_type": "code",
      "source": [
        "pip install --upgrade PyPDF2\n"
      ],
      "metadata": {
        "colab": {
          "base_uri": "https://localhost:8080/"
        },
        "id": "XJig7rIi1623",
        "outputId": "eeceb3f0-d77c-421d-8d01-950e5fc34d1c"
      },
      "execution_count": null,
      "outputs": [
        {
          "output_type": "stream",
          "name": "stdout",
          "text": [
            "Requirement already satisfied: PyPDF2 in /usr/local/lib/python3.10/dist-packages (3.0.1)\n"
          ]
        }
      ]
    },
    {
      "cell_type": "markdown",
      "source": [
        "PDF 2 TXT TRANSLATE - REMOVE DOTS"
      ],
      "metadata": {
        "id": "g9gchSkB2h8A"
      }
    },
    {
      "cell_type": "code",
      "source": [
        "from PyPDF2 import PdfReader\n",
        "import re\n",
        "\n",
        "def process_text(text):\n",
        "    lines = text.split('\\n')\n",
        "    processed_lines = []\n",
        "    for line in lines:\n",
        "        words = line.split()\n",
        "        new_line = ''\n",
        "        for word in words:\n",
        "            # Replace decimal dots with commas\n",
        "            if re.match(r'^\\d+\\.\\d+$', word):\n",
        "                new_line += word.replace('.', ',') + ' '\n",
        "            else:\n",
        "                # Remove dots not at the end of a sentence\n",
        "                if word.endswith('.'):\n",
        "                    if not re.match(r'^\\d+(\\.\\d+)*$', word):  # Ensure it's not a number\n",
        "                        new_line += word + ' '\n",
        "                    else:\n",
        "                        new_line += word.replace('.', ',') + ' '\n",
        "                else:\n",
        "                    new_line += word.replace('.', '') + ' '\n",
        "        processed_lines.append(new_line.strip())\n",
        "    return '\\n'.join(processed_lines)\n",
        "\n",
        "def convert_pdf_to_txt(pdf_file, txt_file):\n",
        "    pdf_reader = PdfReader(pdf_file)\n",
        "    text = ''\n",
        "    for page in pdf_reader.pages:\n",
        "        text += page.extract_text() + '\\n'\n",
        "\n",
        "    processed_text = process_text(text)\n",
        "\n",
        "    with open(txt_file, 'w') as file:\n",
        "        file.write(processed_text)\n",
        "\n",
        "# Usage\n",
        "convert_pdf_to_txt('tomek.pdf', 'tomek.txt')\n"
      ],
      "metadata": {
        "id": "UuRU1vBg1-P4"
      },
      "execution_count": null,
      "outputs": []
    }
  ]
}