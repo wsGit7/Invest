{
  "nbformat": 4,
  "nbformat_minor": 0,
  "metadata": {
    "colab": {
      "provenance": [],
      "authorship_tag": "ABX9TyO1x5FmS+j7OnQpLq0cQ7Wu",
      "include_colab_link": true
    },
    "kernelspec": {
      "name": "python3",
      "display_name": "Python 3"
    },
    "language_info": {
      "name": "python"
    }
  },
  "cells": [
    {
      "cell_type": "markdown",
      "metadata": {
        "id": "view-in-github",
        "colab_type": "text"
      },
      "source": [
        "<a href=\"https://colab.research.google.com/github/wsGit7/Invest/blob/main/pdf2txt.ipynb\" target=\"_parent\"><img src=\"https://colab.research.google.com/assets/colab-badge.svg\" alt=\"Open In Colab\"/></a>"
      ]
    },
    {
      "cell_type": "code",
      "execution_count": 2,
      "metadata": {
        "colab": {
          "base_uri": "https://localhost:8080/"
        },
        "id": "iLMxMcK7X-CN",
        "outputId": "b282bc3a-353e-480a-e09b-e9d3bd482548"
      },
      "outputs": [
        {
          "output_type": "stream",
          "name": "stdout",
          "text": [
            "Collecting PyMuPDF\n",
            "  Downloading pymupdf-1.25.2-cp39-abi3-manylinux2014_x86_64.manylinux_2_17_x86_64.whl.metadata (3.4 kB)\n",
            "Downloading pymupdf-1.25.2-cp39-abi3-manylinux2014_x86_64.manylinux_2_17_x86_64.whl (20.0 MB)\n",
            "\u001b[2K   \u001b[90m━━━━━━━━━━━━━━━━━━━━━━━━━━━━━━━━━━━━━━━━\u001b[0m \u001b[32m20.0/20.0 MB\u001b[0m \u001b[31m68.2 MB/s\u001b[0m eta \u001b[36m0:00:00\u001b[0m\n",
            "\u001b[?25hInstalling collected packages: PyMuPDF\n",
            "Successfully installed PyMuPDF-1.25.2\n"
          ]
        }
      ],
      "source": [
        "pip install PyMuPDF\n"
      ]
    },
    {
      "cell_type": "code",
      "source": [
        "import fitz\n",
        "\n",
        "pdf_document = \"marek.pdf\"\n",
        "txt_output = \"ustSluzCywTJ.txt\"\n",
        "\n",
        "# Otwórz plik PDF\n",
        "pdf = fitz.open(pdf_document)\n",
        "with open(txt_output, \"w\", encoding=\"utf-8\") as txt_file:\n",
        "    for page_num in range(len(pdf)):\n",
        "        page = pdf.load_page(page_num)\n",
        "        text = page.get_text()\n",
        "        txt_file.write(text)\n"
      ],
      "metadata": {
        "id": "BokKLoDbYLe4"
      },
      "execution_count": 3,
      "outputs": []
    }
  ]
}