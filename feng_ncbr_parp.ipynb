{
  "nbformat": 4,
  "nbformat_minor": 0,
  "metadata": {
    "colab": {
      "provenance": [],
      "authorship_tag": "ABX9TyNaOhqa9T0CxjqYNvQhy+R1",
      "include_colab_link": true
    },
    "kernelspec": {
      "name": "python3",
      "display_name": "Python 3"
    },
    "language_info": {
      "name": "python"
    }
  },
  "cells": [
    {
      "cell_type": "markdown",
      "metadata": {
        "id": "view-in-github",
        "colab_type": "text"
      },
      "source": [
        "<a href=\"https://colab.research.google.com/github/wsGit7/Invest/blob/main/feng_ncbr_parp.ipynb\" target=\"_parent\"><img src=\"https://colab.research.google.com/assets/colab-badge.svg\" alt=\"Open In Colab\"/></a>"
      ]
    },
    {
      "cell_type": "code",
      "source": [
        "pip install pandas\n"
      ],
      "metadata": {
        "colab": {
          "base_uri": "https://localhost:8080/"
        },
        "id": "ik5_Ms4o5T3F",
        "outputId": "87ccb4f0-2a14-412f-8115-de4d2428d9d4"
      },
      "execution_count": null,
      "outputs": [
        {
          "output_type": "stream",
          "name": "stdout",
          "text": [
            "Requirement already satisfied: pandas in /usr/local/lib/python3.10/dist-packages (2.2.2)\n",
            "Requirement already satisfied: numpy>=1.22.4 in /usr/local/lib/python3.10/dist-packages (from pandas) (1.26.4)\n",
            "Requirement already satisfied: python-dateutil>=2.8.2 in /usr/local/lib/python3.10/dist-packages (from pandas) (2.8.2)\n",
            "Requirement already satisfied: pytz>=2020.1 in /usr/local/lib/python3.10/dist-packages (from pandas) (2024.2)\n",
            "Requirement already satisfied: tzdata>=2022.7 in /usr/local/lib/python3.10/dist-packages (from pandas) (2024.2)\n",
            "Requirement already satisfied: six>=1.5 in /usr/local/lib/python3.10/dist-packages (from python-dateutil>=2.8.2->pandas) (1.17.0)\n"
          ]
        }
      ]
    },
    {
      "cell_type": "code",
      "source": [
        "import pandas as pd\n",
        "\n",
        "# Read the Excel file\n",
        "df = pd.read_excel('kisFengUmWn.xlsx', decimal=',')\n",
        "\n",
        "# Group by columns 2, 6, and 10 and calculate the sum of column 11\n",
        "grouped_df = df.groupby([df.columns[1], df.columns[5], df.columns[9]])[df.columns[10]].sum().reset_index()\n",
        "\n",
        "# Save the result to a new Excel file\n",
        "grouped_df.to_excel('summary.xlsx', index=False)\n"
      ],
      "metadata": {
        "id": "8MZ_NNWE5VVU"
      },
      "execution_count": null,
      "outputs": []
    },
    {
      "cell_type": "code",
      "source": [
        "# Group by columns 2, 6, and 10 and calculate the sum of column 11\n",
        "grouped_df = df.groupby([df.columns[1], df.columns[22]])[df.columns[10]].sum().reset_index()\n",
        "\n",
        "# Save the result to a new Excel file\n",
        "grouped_df.to_excel('umKis.xlsx', index=False)\n"
      ],
      "metadata": {
        "id": "zQipz3o2B84O"
      },
      "execution_count": null,
      "outputs": []
    },
    {
      "cell_type": "code",
      "source": [
        "import pandas as pd\n",
        "\n",
        "# Load the Excel file\n",
        "file_path = 'ncbr_2024.12.04_oprac.xlsx'\n",
        "df = pd.read_excel(file_path)\n",
        "\n",
        "# Filter rows where column 2 contains substring 'wnofo' and column 4 date is not later than 2024-09-30\n",
        "df_filtered = df[df.iloc[:, 1].str.contains('wnofo', na=False) & (pd.to_datetime(df.iloc[:, 3]) <= '2024-09-30')]\n",
        "\n",
        "# Group by column 6 and aggregate sum of column 11, column 12, and count occurrences\n",
        "df_grouped = df_filtered.groupby(df_filtered.columns[5]).agg({\n",
        "    df_filtered.columns[10]: 'sum',\n",
        "    df_filtered.columns[11]: 'sum',\n",
        "    df_filtered.columns[0]: 'count'  # Using column 1 for counting occurrences\n",
        "}).reset_index()\n",
        "\n",
        "# Rename columns for better understanding\n",
        "df_grouped.columns = ['Group', 'Sum Column 11', 'Sum Column 12', 'Number of Occurrences']\n",
        "\n",
        "# Save the result to a new Excel file\n",
        "output_file_path = 'ncbr.wn.podkis.324.xlsx'\n",
        "df_grouped.to_excel(output_file_path, index=False)\n",
        "\n",
        "print(f'Result saved to {output_file_path}')\n"
      ],
      "metadata": {
        "colab": {
          "base_uri": "https://localhost:8080/"
        },
        "id": "kw68qxQ-fQg6",
        "outputId": "413a66e8-62d0-452c-dd9b-aee84b65d60d"
      },
      "execution_count": null,
      "outputs": [
        {
          "output_type": "stream",
          "name": "stdout",
          "text": [
            "Result saved to ncbr.wn.podkis.324.xlsx\n"
          ]
        }
      ]
    },
    {
      "cell_type": "code",
      "source": [],
      "metadata": {
        "id": "KUNu0FcaPMDa"
      },
      "execution_count": null,
      "outputs": []
    },
    {
      "cell_type": "code",
      "source": [
        "import pandas as pd\n",
        "\n",
        "# Load the Excel file and the second Excel file\n",
        "file_path_excel = 'ncbr.wn.podkis.324.xlsx'\n",
        "file_path_kisy = 'kisyOpis.xlsx'\n",
        "\n",
        "df_excel = pd.read_excel(file_path_excel)\n",
        "df_kisy = pd.read_excel(file_path_kisy)\n",
        "\n",
        "# Check if the second Excel file has enough columns\n",
        "if len(df_kisy.columns) < 2:\n",
        "    print(\"The second Excel file does not have enough columns.\")\n",
        "else:\n",
        "    # Ensure the column 5 in the first Excel file is available\n",
        "    # Adding a new column for mapped values if it doesn't exist\n",
        "    if len(df_excel.columns) < 5:\n",
        "        df_excel['Mapped Column'] = pd.Series([None] * len(df_excel), dtype='object')\n",
        "    else:\n",
        "        df_excel.iloc[:, 4] = pd.Series([None] * len(df_excel), dtype='object')  # Clear existing column 5 if it exists\n",
        "\n",
        "    # Create a dictionary from the second Excel file for mapping\n",
        "    mapping_dict = pd.Series(df_kisy.iloc[:, 1].values, index=df_kisy.iloc[:, 0]).to_dict()\n",
        "\n",
        "    # Debug: Print the mapping dictionary\n",
        "    print(\"Mapping dictionary:\", mapping_dict)\n",
        "\n",
        "    # Iterate through rows in used range in column 1 of both files and compare values\n",
        "    for i in range(df_excel.shape[0]):\n",
        "        excel_value = df_excel.iloc[i, 0]  # Column 1 in the first Excel file\n",
        "        # Debug: Print the value being checked\n",
        "        print(f\"Checking Excel value: {excel_value}\")\n",
        "        if excel_value in mapping_dict:\n",
        "            df_excel.iloc[i, 4] = mapping_dict[excel_value]  # Add corresponding value from the second Excel file's column 2 to the first Excel file's column 5\n",
        "            # Debug: Print the mapped value\n",
        "            print(f\"Mapped {excel_value} to {mapping_dict[excel_value]} in row {i}\")\n",
        "\n",
        "    # Save the result to a new Excel file\n",
        "    output_file_path = 'ncbr.wn.podkis.op.324.xlsx'\n",
        "    df_excel.to_excel(output_file_path, index=False)\n",
        "\n",
        "    print(f'Result saved to {output_file_path}')\n"
      ],
      "metadata": {
        "colab": {
          "base_uri": "https://localhost:8080/"
        },
        "id": "IQHf9gpz9uMP",
        "outputId": "a5ce6f7b-54fc-46dd-8469-27e40ee12f88"
      },
      "execution_count": null,
      "outputs": [
        {
          "output_type": "stream",
          "name": "stdout",
          "text": [
            "Mapping dictionary: {'KIS 1.': 'ZDROWE SPOŁECZEŃSTWO', '1.I.': 'BADANIA I ROZWÓJ PRODUKTÓW LECZNICZYCH', '1.II.': 'PRODUKTY LECZNICZE TERAPII ZAAWANSOWANYCH (ATMP) ORAZ BIOLOGICZNE', '1.III.': 'BADANIA I ROZWÓJ INNOWACYJNYCH SUPLEMENTÓW DIETY I ŚRODKÓW SPOŻYWCZYCH SPECJALNEGO PRZEZNACZENIA ŻYWIENIOWEGO', '1.IV.': 'URZĄDZENIA I WYROBY MEDYCZNE', '1.V.': 'TECHNOLOGIE MEDYCZNE', '1.VI.': 'INFORMATYCZNE NARZĘDZIA MEDYCZNE', '1.VII.': 'DIAGNOSTYKA OBRAZOWA ORAZ OPARTA NA INNYCH TECHNIKACH DETEKCJI', '1.VIII.': 'MARKERY/TESTY', '1.IX.': 'TELEMEDYCYNA', '1.X.': 'KOORDYNOWANA OPIEKA ZDROWOTNA', '1.XI.': 'NOWE CELE PREWENCYJNE I/LUB TERAPEUTYCZNE', '1.XII.': 'BADANIA KLINICZNE', '1.XIII.': 'PRODUKTY LECZNICZE BIOLOGICZNE BIOLOGICZNIE RÓWNOWAŻNE DAWNIEJ BIOPODOBNE INNOWACYJNE GENERYCZNE ORAZ WYROBY MEDYCZNE ORAZ SUPLEMENTY DIETY I ŚRODKI SPOŻYWCZE SPECJALNEGO PRZEZNACZENIA ŻYWIENIOWEGO', '1.XIV.': 'SUBSTANCJE CZYNNE (AKTYWNE) PRODUKTÓW LECZNICZYCH (API)', '1.XV.': 'DERMATOLOGICZNE I KOSMETYCZNE PRODUKTY LECZNICZE DO STOSOWANIA ZEWNĘTRZNEGO;', '1.XVI.': 'PRODUKTY LECZNICZE POCHODZENIA NATURALNEGO', 'KIS 2.': 'NOWOCZESNE ROLNICTWO LEŚNICTWO I ŻYWNOŚĆ', '2.I.': 'ELEMENTY WSPÓLNE DLA INNOWACJI SEKTORA ROLNO-SPOŻYWCZEGO I LEŚNO-DRZEWNEGO', '2.II.': 'GLEBA I UŻYTKI ROLNE', '2.III.': 'POSTĘP BIOLOGICZNY W PRODUKCJI ROŚLINNEJ I ZWIERZĘCEJ', '2.IV.': 'TECHNOLOGIA PRODUKCJI ROŚLINNEJ I ZWIERZĘCEJ', '2.V.': 'MASZYNY I URZĄDZENIA ROLNICZE', '2.VI.': 'NAWOZY ORGANICZNE I MINERALNE ŚRODKI OCHRONY ROŚLIN I REGULATORY WZROSTU', '2.VII.': 'PRODUKCJA MAGAZYNOWANIE PRZECHOWALNICTWO', '2.VIII.': 'PRZETWÓRSTWO PŁODÓW ROLNYCH I PRODUKTÓW ZWIERZĘCYCH', '2.IX.': 'INNOWACYJNE METODY POZWALAJĄCE NA POPRAWĘ DOBROSTANU I OCHRONĘ ZDROWIA ZWIERZĄT', '2.X.': 'ŻYWNOŚĆ A KONSUMENT', '2.XI.': 'NOWOCZESNE LEŚNICTWO', '2.XII.': 'INNOWACYJNE PRODUKTY DRZEWNE I DREWNOPOCHODNE', '2.XIII.': 'INDYWIDUALIZACJA PRODUKCJI MEBLARSKIEJ', '2.XIV.': 'INNOWACYJNE PROCESY I PRODUKTY W PRZEMYŚLE CELULOZOWO-PAPIERNICZYM I OPAKOWANIOWYM', 'KIS 3.': 'ZRÓWNOWAŻONE (BIO)PRODUKTY (BIO)PROCESY i ŚRODOWISKO', '3.I.': 'BIOSUROWCE Metody wykorzystania odnawialnych surowców pochodzenia biologicznego niekonkurencyjnych dla żywności zastępujących surowce nieodnawialne.', '3.II.': 'INNOWACYJNE PROCESY (BIO)TECHNOLOGICZNE', '3.III .': 'BIOPRODUKTY I PRODUKTY CHEMII SPECJALISTYCZNEJ', '3.IV.': 'BIOTECHNOLOGIA W OCHRONIE ŚRODOWISKA', 'KIS 4.': 'ZRÓWNOWAŻONA ENERGIA', '4.I.': 'WYTWARZANIE ENERGII', '4.II.': 'SMART GRIDS / INTELIGENTNE SIECI ELEKTROENERGETYCZNE', '4.III.': 'MAGAZYNOWANIE ENERGII', '4.IV.': 'OZE', '4.V.': 'ENERGETYKA PROSUMENCKA', '4.VI.': 'ENERGIA Z ODPADÓW PALIW ALTERNATYWNYCH I OCHRONA ŚRODOWISKA', 'KIS 5.': 'INTELIGENTNE BUDOWNICTWO ZEROEMISYJNE', '5.I.': 'MATERIAŁY I TECHNOLOGIE ', '5.II.': 'SYSTEMY ENERGETYCZNE BUDYNKÓW', '5.III.': 'ROZWÓJ MASZYN I URZĄDZEŃ', '5.IV.': 'ROZWÓJ APLIKACJI I ŚRODOWISK PROGRAMISTYCZNYCH', '5.V.': 'ZINTEGROWANE PROJEKTOWANIE', '5.VI.': 'WERYFIKACJA ENERGETYCZNA I ŚRODOWISKOWA', '5.VII.': 'PRZETWARZANIE I POWTÓRNE UŻYCIE MATERIAŁÓW', 'KIS 6.': 'TRANSPORT PRZYJAZNY ŚRODOWISKU', '6.I.': 'INNOWACYJNE ŚRODKI TRANSPORTU', '6.II.': 'PROEKOLOGICZNE ROZWIĄZANIA KONSTRUKCYJNE I KOMPONENTY W ŚRODKACH TRANSPORTU', '6.III.': 'SYSTEMY ZARZĄDZANIA TRANSPORTEM', '6.IV.': 'INNOWACYJNE MATERIAŁY W ŚRODKACH TRANSPORTU', '6.V.': 'INNOWACYJNE TECHNOLOGIE PRODUKCJI ŚRODKÓW TRANSPORTU I ICH CZEŚCI', 'KIS 7.': 'GOSPODARKA O OBIEGU ZAMKNIĘTYM', '7.I.': 'EKOPROJEKTOWANIE DLA GOZ', '7.II.': 'POZYSKANIE I WYKORZYSTANIE ZASOBÓW ODNAWIALNYCH I NIEODNAWIALNYCH', '7.III.': 'PRZETWÓRSTWO I PRODUKCJA', '7.IV.': 'UŻYTKOWANIE I KONSUMPCJA', '7.V.': 'ODPADY I ŚCIEKI', 'KIS 8.': 'ZAAWANSOWANE MATERIAŁY I NANOTECHNOLOGIA', '8.I.': 'MATERIAŁY I NANOMATERIAŁY EKOLOGICZNE BIOMIMETYCZNE BIONICZNE I BIODEGRADOWALNE Z UWZGLĘDNIENIEM ŚLADU ŚRODOWISKOWEGO OBIEGU ZAM-KNIĘTEGO MINIMALIZACJI ODPADÓW ORAZ CZYSTSZEJ TECHNOLOGII I NANOTECH-NOLOGII WRAZ Z RACJONALIZACJĄ STOSOWANIA MATERIAŁÓW POLIMEROWYCH', '8.II.': 'WIELOFUNKCYJNE I NANOSTRUKTURALNE MATERIAŁY O RADYKALNIE ZWIĘKSZONEJ NOWEJ FUNKCJONALNOŚCI ORAZ ICH TECHNOLOGIE', '8.III.': 'MATERIAŁY I NANOMATERIAŁY KOMPOZYTOWE ULTRALEKKIE ULTRAWYTRZY-MAŁE I O RADYKALNIE PODWYŻSZONEJ ŻAROODPORNOŚCI I ŻAROWYTRZYMAŁOŚCI', '8.IV.': 'ZAAWANSOWANE MATERIAŁY I NANOMATERIAŁY DLA ENERGII ODNAWIALNEJ DO PRZETWARZANIA MAGAZYNOWANIA I RACJONALIZACJI GOSPODAROWANIA ENERGIĄ', '8.V.': 'MATERIAŁY I NANOMATERIAŁY KOMPOZYTOWE O OSNOWIE LUB WZMOCNIENIU Z NANOWŁÓKIEN NANODRUTÓW I NANORUREK W TYM WĘGLOWYCH I ICH TECHNOLOGIE', '8.VI.': 'ZAAWANSOWANE MATERIAŁY TECHNOLOGIE I NANOTECHNOLOGIE PRODUKTÓW O WYSOKIEJ WARTOŚCI DODANEJ I DUŻYM ZNACZENIU DLA ŁAŃCUCHÓW WARTOŚCI W PRZEMYŚLE WRAZ Z TECHNOLOGIAMI PRZYROSTOWYMI 3D I 4D', '8.VII.': 'ZAAWANSOWANE MATERIAŁY I NANOMATERIAŁY ORAZ TECHNOLOGIE I NANOTECHNOLOGIE DLA CELÓW MEDYCZNYCH I OCHRONY ZDROWIA ORAZ MATERIAŁY INŻYNIERYJNO-BIOLOGICZNE Z UDZIAŁEM ŻYWYCH TKANEK I KOMÓREK', '8.VIII.': 'ZAAWANSOWANE MATERIAŁY I NANOMATERIAŁY ORAZ TECHNOLOGIE I NANO-TECHNOLOGIE DO ZASTOSOWAŃ ZWIĄZANYCH Z BEZPIECZEŃSTWEM', '8.IX.': 'WIELOFUNKCYJNE WARSTWY I NANOWARSTWY PRZECIWZUŻYCIOWE OCHRONNE I O SPECJALNYCH WŁAŚCIWOŚCIACH FIZYKOCHEMICZNYCH ORAZ KOMPOZYTY I NANOKOMPOZYTY PRZESTRZENNE WARSTWOWE SAMOORGANIZUJĄCE SIĘ I SAMONA-PRAWIAJĄCE SIĘ I SAMONAPRAWIALNE', '8.X.': 'MODELOWANIE I SYMULACJA WYKORZYSTANIE BAZ DANYCH I CYFROWYCH BLIŹNIAKÓW W ODNIESIENIU DO STRUKTURY I WŁAŚCIWOŚCI ORAZ KOMPUTEROWE WSPOMAGANIE PROJEKTOWANIA I WYTWARZANIA MATERIAŁÓW I NANOMATERIAŁÓW', 'KIS 9.': 'ELEKTRONIKA I FOTONIKA', '9.I.': 'SENSORY I DETEKTORY (KONSTRUKCJA TECHNOLOGIA MATERIAŁY)', '9.II.': 'TECHNOLOGIE MATERIAŁY I URZĄDZENIA DLA FOTOWOLTAIKI', '9.III.': 'TECHNOLOGIE MATERIAŁY I URZĄDZENIA ŚWIATŁOWODOWE', '9.IV.': 'INNOWACYJNE ŹRÓDŁA PROMIENIOWANIA OPTYCZNEGO (MATERIAŁY TECHNOLOGIE URZĄDZENIA)', '9.V.': 'SYSTEMY ORAZ SIECI SENSOROWE I TELEKOMUNIKACYJNE', '9.VI.': 'INNOWACYJNE UKŁADY I SYSTEMY ELEKTRONIKI OPTOELEKTRONIKI I FOTONIKI SCALONEJ', '9.VII.': 'INNOWACYJNE TECHNOLOGIE I SYSTEMY ELEKTRONIKI DRUKOWANEJ', '9.VIII.': 'ZAGADNIENIA APLIKACYJNE', '9.IX.': 'ZAGADNIENIA HORYZONTALNE W TECHNOLOGIACH SENSOROWYCH I FOTONICZNYCH', 'KIS 10.': 'TECHNOLOGIE INFORMACYJNE KOMUNIKACYJNE ORAZ GEOINFORMACYJNE', '10.I.': 'TECHNOLOGIE INTERNETU PRZYSZŁOŚCI TECHNOLOGIE INTERNETU RZECZY SYSTEMY WBUDOWANE', '10.II.': 'INTELIGENTNE SIECI W INFRASTRUKTURACH', '10.III.': 'ARCHITEKTURY SYSTEMY I APLIKACJE W INTELIGENTNYCH SIECIACH', '10.IV.': 'ZARZĄDZANIE INFORMACJĄ', '10.V.': 'RZECZYWISTOŚĆ MIESZANA ORAZ INTERFEJSY CZŁOWIEK-MASZYNA I MASZYNA-MASZYNA', '10.VI.': 'CYBERBEZPIECZEŃSTWO', '10.VII.': 'ROZWÓJ SZTUCZNEJ INTELIGENCJI', '10.VIII.': 'POZYCJONOWANIE I NAWIGACJA', '10.IX.': 'POZYSKIWANIE GEOINFORMACJI', '10.X.': 'PRZETWARZANIE ANALIZOWANIE UDOSTĘPNIANIE ORAZ WIZUALIZACJA GEOINFORMACJI', '10.XI.': 'GEOINFORMATYKA', '10.XII.': 'INNOWACYJNE ZASTOSOWANIA GEOINFORMACJI', 'KIS 11.': 'AUTOMATYZACJA I ROBOTYKA', '11.I.': 'PROJEKTOWANIE I OPTYMALIZACJA PROCESÓW WYTWARZANIA', '11.II.': 'TECHNOLOGIE AUTOMATYZACJI I ROBOTYZACJI PROCESÓW', '11.III.': 'DIAGNOSTYKA I MONITOROWANIE', '11.IV.': 'SYSTEMY STEROWANIA', '11.V.': 'MASZYNY I URZĄDZENIA AUTOMATYZUJĄCE I ROBOTYZUJĄCE PROCESY', 'KIS 12.': 'PRZEMYSŁY KREATYWNE', '12.I.': 'WZORNICTWO- POJEKTOWANIE', '12.II.': 'GRY', '12.III.': 'MULTIMEDIA', '12.IV.': 'ROZSZERZONA RZECZYWISTOŚĆ (XR)', 'KIS 13.': 'TECHNOLOGIE MORSKIE', '13.I.': 'PROJEKTOWANIE BUDOWA I KONWERSJA SPECJALISTYCZNYCH JEDNOSTEK PŁYWAJĄCYCH ORAZ ICH SPECJALISTYCZNEGO WYPOSAŻENIA', '13.II.': 'PROJEKTOWANIE BUDOWA I PRZEBUDOWA KONSTRUKCJI MORSKICH I PRZYBRZEŻNYCH', '13.III.': 'PROCESY I URZĄDZENIA WYKORZYSTYWANE NA POTRZEBY LOGISTYKI OPARTEJ O TRANSPORT MORSKI I ŚRÓDLĄDOWY', '13.IV.': 'NOWOCZESNE TECHNOLOGIE W PRZEMYŚLE POGŁĘBIARSKIM'}\n",
            "Checking Excel value: 1.\n",
            "Checking Excel value: 1.I.\n",
            "Mapped 1.I. to BADANIA I ROZWÓJ PRODUKTÓW LECZNICZYCH in row 1\n",
            "Checking Excel value: 1.II.\n",
            "Mapped 1.II. to PRODUKTY LECZNICZE TERAPII ZAAWANSOWANYCH (ATMP) ORAZ BIOLOGICZNE in row 2\n",
            "Checking Excel value: 1.III.\n",
            "Mapped 1.III. to BADANIA I ROZWÓJ INNOWACYJNYCH SUPLEMENTÓW DIETY I ŚRODKÓW SPOŻYWCZYCH SPECJALNEGO PRZEZNACZENIA ŻYWIENIOWEGO in row 3\n",
            "Checking Excel value: 1.IV.\n",
            "Mapped 1.IV. to URZĄDZENIA I WYROBY MEDYCZNE in row 4\n",
            "Checking Excel value: 1.VI.\n",
            "Mapped 1.VI. to INFORMATYCZNE NARZĘDZIA MEDYCZNE in row 5\n",
            "Checking Excel value: 1.VII.\n",
            "Mapped 1.VII. to DIAGNOSTYKA OBRAZOWA ORAZ OPARTA NA INNYCH TECHNIKACH DETEKCJI in row 6\n",
            "Checking Excel value: 1.X.\n",
            "Mapped 1.X. to KOORDYNOWANA OPIEKA ZDROWOTNA in row 7\n",
            "Checking Excel value: 1.XI.\n",
            "Mapped 1.XI. to NOWE CELE PREWENCYJNE I/LUB TERAPEUTYCZNE in row 8\n",
            "Checking Excel value: 1.XIV.\n",
            "Mapped 1.XIV. to SUBSTANCJE CZYNNE (AKTYWNE) PRODUKTÓW LECZNICZYCH (API) in row 9\n",
            "Checking Excel value: 1.XV.\n",
            "Mapped 1.XV. to DERMATOLOGICZNE I KOSMETYCZNE PRODUKTY LECZNICZE DO STOSOWANIA ZEWNĘTRZNEGO; in row 10\n",
            "Checking Excel value: 10.I.\n",
            "Mapped 10.I. to TECHNOLOGIE INTERNETU PRZYSZŁOŚCI TECHNOLOGIE INTERNETU RZECZY SYSTEMY WBUDOWANE in row 11\n",
            "Checking Excel value: 10.II.\n",
            "Mapped 10.II. to INTELIGENTNE SIECI W INFRASTRUKTURACH in row 12\n",
            "Checking Excel value: 10.III.\n",
            "Mapped 10.III. to ARCHITEKTURY SYSTEMY I APLIKACJE W INTELIGENTNYCH SIECIACH in row 13\n",
            "Checking Excel value: 10.IV.\n",
            "Mapped 10.IV. to ZARZĄDZANIE INFORMACJĄ in row 14\n",
            "Checking Excel value: 10.V.\n",
            "Mapped 10.V. to RZECZYWISTOŚĆ MIESZANA ORAZ INTERFEJSY CZŁOWIEK-MASZYNA I MASZYNA-MASZYNA in row 15\n",
            "Checking Excel value: 10.VI.\n",
            "Mapped 10.VI. to CYBERBEZPIECZEŃSTWO in row 16\n",
            "Checking Excel value: 10.VII.\n",
            "Mapped 10.VII. to ROZWÓJ SZTUCZNEJ INTELIGENCJI in row 17\n",
            "Checking Excel value: 10.X.\n",
            "Mapped 10.X. to PRZETWARZANIE ANALIZOWANIE UDOSTĘPNIANIE ORAZ WIZUALIZACJA GEOINFORMACJI in row 18\n",
            "Checking Excel value: 10.XI.\n",
            "Mapped 10.XI. to GEOINFORMATYKA in row 19\n",
            "Checking Excel value: 10.XII.\n",
            "Mapped 10.XII. to INNOWACYJNE ZASTOSOWANIA GEOINFORMACJI in row 20\n",
            "Checking Excel value: 11.I.\n",
            "Mapped 11.I. to PROJEKTOWANIE I OPTYMALIZACJA PROCESÓW WYTWARZANIA in row 21\n",
            "Checking Excel value: 11.II.\n",
            "Mapped 11.II. to TECHNOLOGIE AUTOMATYZACJI I ROBOTYZACJI PROCESÓW in row 22\n",
            "Checking Excel value: 11.III.\n",
            "Mapped 11.III. to DIAGNOSTYKA I MONITOROWANIE in row 23\n",
            "Checking Excel value: 11.IV.\n",
            "Mapped 11.IV. to SYSTEMY STEROWANIA in row 24\n",
            "Checking Excel value: 11.V.\n",
            "Mapped 11.V. to MASZYNY I URZĄDZENIA AUTOMATYZUJĄCE I ROBOTYZUJĄCE PROCESY in row 25\n",
            "Checking Excel value: 12.II.\n",
            "Mapped 12.II. to GRY in row 26\n",
            "Checking Excel value: 12.III.\n",
            "Mapped 12.III. to MULTIMEDIA in row 27\n",
            "Checking Excel value: 13.I.\n",
            "Mapped 13.I. to PROJEKTOWANIE BUDOWA I KONWERSJA SPECJALISTYCZNYCH JEDNOSTEK PŁYWAJĄCYCH ORAZ ICH SPECJALISTYCZNEGO WYPOSAŻENIA in row 28\n",
            "Checking Excel value: 2.\n",
            "Checking Excel value: 2.I.\n",
            "Mapped 2.I. to ELEMENTY WSPÓLNE DLA INNOWACJI SEKTORA ROLNO-SPOŻYWCZEGO I LEŚNO-DRZEWNEGO in row 30\n",
            "Checking Excel value: 2.III.\n",
            "Mapped 2.III. to POSTĘP BIOLOGICZNY W PRODUKCJI ROŚLINNEJ I ZWIERZĘCEJ in row 31\n",
            "Checking Excel value: 2.IV.\n",
            "Mapped 2.IV. to TECHNOLOGIA PRODUKCJI ROŚLINNEJ I ZWIERZĘCEJ in row 32\n",
            "Checking Excel value: 2.VI.\n",
            "Mapped 2.VI. to NAWOZY ORGANICZNE I MINERALNE ŚRODKI OCHRONY ROŚLIN I REGULATORY WZROSTU in row 33\n",
            "Checking Excel value: 2.VII.\n",
            "Mapped 2.VII. to PRODUKCJA MAGAZYNOWANIE PRZECHOWALNICTWO in row 34\n",
            "Checking Excel value: 2.VIII.\n",
            "Mapped 2.VIII. to PRZETWÓRSTWO PŁODÓW ROLNYCH I PRODUKTÓW ZWIERZĘCYCH in row 35\n",
            "Checking Excel value: 2.X.\n",
            "Mapped 2.X. to ŻYWNOŚĆ A KONSUMENT in row 36\n",
            "Checking Excel value: 2.XI.\n",
            "Mapped 2.XI. to NOWOCZESNE LEŚNICTWO in row 37\n",
            "Checking Excel value: 2.XII.\n",
            "Mapped 2.XII. to INNOWACYJNE PRODUKTY DRZEWNE I DREWNOPOCHODNE in row 38\n",
            "Checking Excel value: 2.XIII.\n",
            "Mapped 2.XIII. to INDYWIDUALIZACJA PRODUKCJI MEBLARSKIEJ in row 39\n",
            "Checking Excel value: 2.XIV.\n",
            "Mapped 2.XIV. to INNOWACYJNE PROCESY I PRODUKTY W PRZEMYŚLE CELULOZOWO-PAPIERNICZYM I OPAKOWANIOWYM in row 40\n",
            "Checking Excel value: 3.I.\n",
            "Mapped 3.I. to BIOSUROWCE Metody wykorzystania odnawialnych surowców pochodzenia biologicznego niekonkurencyjnych dla żywności zastępujących surowce nieodnawialne. in row 41\n",
            "Checking Excel value: 3.II.\n",
            "Mapped 3.II. to INNOWACYJNE PROCESY (BIO)TECHNOLOGICZNE in row 42\n",
            "Checking Excel value: 3.III.\n",
            "Checking Excel value: 4.\n",
            "Checking Excel value: 4.I.\n",
            "Mapped 4.I. to WYTWARZANIE ENERGII in row 45\n",
            "Checking Excel value: 4.II.\n",
            "Mapped 4.II. to SMART GRIDS / INTELIGENTNE SIECI ELEKTROENERGETYCZNE in row 46\n",
            "Checking Excel value: 4.III.\n",
            "Mapped 4.III. to MAGAZYNOWANIE ENERGII in row 47\n",
            "Checking Excel value: 4.IV.\n",
            "Mapped 4.IV. to OZE in row 48\n",
            "Checking Excel value: 4.V.\n",
            "Mapped 4.V. to ENERGETYKA PROSUMENCKA in row 49\n",
            "Checking Excel value: 4.VI.\n",
            "Mapped 4.VI. to ENERGIA Z ODPADÓW PALIW ALTERNATYWNYCH I OCHRONA ŚRODOWISKA in row 50\n",
            "Checking Excel value: 5.\n",
            "Checking Excel value: 5.I.\n",
            "Mapped 5.I. to MATERIAŁY I TECHNOLOGIE  in row 52\n",
            "Checking Excel value: 5.II.\n",
            "Mapped 5.II. to SYSTEMY ENERGETYCZNE BUDYNKÓW in row 53\n",
            "Checking Excel value: 5.III.\n",
            "Mapped 5.III. to ROZWÓJ MASZYN I URZĄDZEŃ in row 54\n",
            "Checking Excel value: 5.V.\n",
            "Mapped 5.V. to ZINTEGROWANE PROJEKTOWANIE in row 55\n",
            "Checking Excel value: 5.VII.\n",
            "Mapped 5.VII. to PRZETWARZANIE I POWTÓRNE UŻYCIE MATERIAŁÓW in row 56\n",
            "Checking Excel value: 6.I.\n",
            "Mapped 6.I. to INNOWACYJNE ŚRODKI TRANSPORTU in row 57\n",
            "Checking Excel value: 6.II.\n",
            "Mapped 6.II. to PROEKOLOGICZNE ROZWIĄZANIA KONSTRUKCYJNE I KOMPONENTY W ŚRODKACH TRANSPORTU in row 58\n",
            "Checking Excel value: 6.III.\n",
            "Mapped 6.III. to SYSTEMY ZARZĄDZANIA TRANSPORTEM in row 59\n",
            "Checking Excel value: 6.IV.\n",
            "Mapped 6.IV. to INNOWACYJNE MATERIAŁY W ŚRODKACH TRANSPORTU in row 60\n",
            "Checking Excel value: 6.V.\n",
            "Mapped 6.V. to INNOWACYJNE TECHNOLOGIE PRODUKCJI ŚRODKÓW TRANSPORTU I ICH CZEŚCI in row 61\n",
            "Checking Excel value: 7.\n",
            "Checking Excel value: 7.I.\n",
            "Mapped 7.I. to EKOPROJEKTOWANIE DLA GOZ in row 63\n",
            "Checking Excel value: 7.II.\n",
            "Mapped 7.II. to POZYSKANIE I WYKORZYSTANIE ZASOBÓW ODNAWIALNYCH I NIEODNAWIALNYCH in row 64\n",
            "Checking Excel value: 7.III.\n",
            "Mapped 7.III. to PRZETWÓRSTWO I PRODUKCJA in row 65\n",
            "Checking Excel value: 7.IV.\n",
            "Mapped 7.IV. to UŻYTKOWANIE I KONSUMPCJA in row 66\n",
            "Checking Excel value: 7.V.\n",
            "Mapped 7.V. to ODPADY I ŚCIEKI in row 67\n",
            "Checking Excel value: 8.I.\n",
            "Mapped 8.I. to MATERIAŁY I NANOMATERIAŁY EKOLOGICZNE BIOMIMETYCZNE BIONICZNE I BIODEGRADOWALNE Z UWZGLĘDNIENIEM ŚLADU ŚRODOWISKOWEGO OBIEGU ZAM-KNIĘTEGO MINIMALIZACJI ODPADÓW ORAZ CZYSTSZEJ TECHNOLOGII I NANOTECH-NOLOGII WRAZ Z RACJONALIZACJĄ STOSOWANIA MATERIAŁÓW POLIMEROWYCH in row 68\n",
            "Checking Excel value: 8.III.\n",
            "Mapped 8.III. to MATERIAŁY I NANOMATERIAŁY KOMPOZYTOWE ULTRALEKKIE ULTRAWYTRZY-MAŁE I O RADYKALNIE PODWYŻSZONEJ ŻAROODPORNOŚCI I ŻAROWYTRZYMAŁOŚCI in row 69\n",
            "Checking Excel value: 8.IX.\n",
            "Mapped 8.IX. to WIELOFUNKCYJNE WARSTWY I NANOWARSTWY PRZECIWZUŻYCIOWE OCHRONNE I O SPECJALNYCH WŁAŚCIWOŚCIACH FIZYKOCHEMICZNYCH ORAZ KOMPOZYTY I NANOKOMPOZYTY PRZESTRZENNE WARSTWOWE SAMOORGANIZUJĄCE SIĘ I SAMONA-PRAWIAJĄCE SIĘ I SAMONAPRAWIALNE in row 70\n",
            "Checking Excel value: 8.VI.\n",
            "Mapped 8.VI. to ZAAWANSOWANE MATERIAŁY TECHNOLOGIE I NANOTECHNOLOGIE PRODUKTÓW O WYSOKIEJ WARTOŚCI DODANEJ I DUŻYM ZNACZENIU DLA ŁAŃCUCHÓW WARTOŚCI W PRZEMYŚLE WRAZ Z TECHNOLOGIAMI PRZYROSTOWYMI 3D I 4D in row 71\n",
            "Checking Excel value: 8.VII.\n",
            "Mapped 8.VII. to ZAAWANSOWANE MATERIAŁY I NANOMATERIAŁY ORAZ TECHNOLOGIE I NANOTECHNOLOGIE DLA CELÓW MEDYCZNYCH I OCHRONY ZDROWIA ORAZ MATERIAŁY INŻYNIERYJNO-BIOLOGICZNE Z UDZIAŁEM ŻYWYCH TKANEK I KOMÓREK in row 72\n",
            "Checking Excel value: 8.VIII.\n",
            "Mapped 8.VIII. to ZAAWANSOWANE MATERIAŁY I NANOMATERIAŁY ORAZ TECHNOLOGIE I NANO-TECHNOLOGIE DO ZASTOSOWAŃ ZWIĄZANYCH Z BEZPIECZEŃSTWEM in row 73\n",
            "Checking Excel value: 9.VI.\n",
            "Mapped 9.VI. to INNOWACYJNE UKŁADY I SYSTEMY ELEKTRONIKI OPTOELEKTRONIKI I FOTONIKI SCALONEJ in row 74\n",
            "Result saved to ncbr.wn.podkis.op.324.xlsx\n"
          ]
        }
      ]
    },
    {
      "cell_type": "code",
      "source": [
        "import pandas as pd\n",
        "\n",
        "# Load the Excel file\n",
        "file_path = 'ncbr.wn.podkis.op.324 (6) KISY.xlsx'\n",
        "df = pd.read_excel(file_path)\n",
        "\n",
        "# Group by column 1 and sum columns 2, 3, and 4\n",
        "df_grouped = df.groupby(df.columns[0]).agg({df.columns[1]: 'sum', df.columns[2]: 'sum', df.columns[3]: 'sum'}).reset_index()\n",
        "\n",
        "# Save the result to a new Excel file\n",
        "output_file_path = 'ncbr.wn.podkis.op.kis.xlsx'\n",
        "df_grouped.to_excel(output_file_path, index=False)\n",
        "\n",
        "print(f'Result saved to {output_file_path}')\n"
      ],
      "metadata": {
        "colab": {
          "base_uri": "https://localhost:8080/"
        },
        "id": "ghz9cxOMF8Hb",
        "outputId": "860d846d-cf31-4279-b8a5-ec721025cbab"
      },
      "execution_count": null,
      "outputs": [
        {
          "output_type": "stream",
          "name": "stdout",
          "text": [
            "Result saved to ncbr.wn.podkis.op.kis.xlsx\n"
          ]
        }
      ]
    },
    {
      "cell_type": "code",
      "source": [],
      "metadata": {
        "id": "ILGTfF72PN0z"
      },
      "execution_count": null,
      "outputs": []
    },
    {
      "cell_type": "code",
      "source": [
        "import pandas as pd\n",
        "\n",
        "# Load the Excel file\n",
        "file_path = 'ncbr_2024.12.04_oprac.xlsx'\n",
        "df = pd.read_excel(file_path)\n",
        "\n",
        "# Filter rows where column 2 contains substring 'wnofo' and column 4 date is not later than 2024-09-30\n",
        "df_filtered = df[df.iloc[:, 1].str.contains('um', na=False) & (pd.to_datetime(df.iloc[:, 4]) <= '2024-09-30')]\n",
        "\n",
        "# Group by column 6 and aggregate sum of column 11, column 12, and count occurrences\n",
        "df_grouped = df_filtered.groupby(df_filtered.columns[5]).agg({\n",
        "    df_filtered.columns[10]: 'sum',\n",
        "    df_filtered.columns[11]: 'sum',\n",
        "    df_filtered.columns[21]: 'count'  # Using column 1 for counting occurrences\n",
        "}).reset_index()\n",
        "\n",
        "# Rename columns for better understanding\n",
        "df_grouped.columns = ['Group', 'Sum Column 11', 'Sum Column 12', 'Number of Occurrences']\n",
        "\n",
        "# Save the result to a new Excel file\n",
        "output_file_path = 'ncbr.um.podkis.324.xlsx'\n",
        "df_grouped.to_excel(output_file_path, index=False)\n",
        "\n",
        "print(f'Result saved to {output_file_path}')\n"
      ],
      "metadata": {
        "colab": {
          "base_uri": "https://localhost:8080/"
        },
        "outputId": "2e4d7189-bb2a-4ab4-d12c-18df8aa4018a",
        "id": "xNvBvwuuPOdE"
      },
      "execution_count": null,
      "outputs": [
        {
          "output_type": "stream",
          "name": "stdout",
          "text": [
            "Result saved to ncbr.um.podkis.324.xlsx\n"
          ]
        }
      ]
    },
    {
      "cell_type": "code",
      "source": [],
      "metadata": {
        "id": "CHG46t0uUO03"
      },
      "execution_count": null,
      "outputs": []
    },
    {
      "cell_type": "code",
      "source": [
        "import pandas as pd\n",
        "\n",
        "# Load the Excel file and the second Excel file\n",
        "file_path_excel = '/content/ncbr.um.podkis.324.xlsx'\n",
        "file_path_kisy = 'kisyOpis.xlsx'\n",
        "\n",
        "df_excel = pd.read_excel(file_path_excel)\n",
        "df_kisy = pd.read_excel(file_path_kisy)\n",
        "\n",
        "# Check if the second Excel file has enough columns\n",
        "if len(df_kisy.columns) < 2:\n",
        "    print(\"The second Excel file does not have enough columns.\")\n",
        "else:\n",
        "    # Ensure the column 5 in the first Excel file is available\n",
        "    # Adding a new column for mapped values if it doesn't exist\n",
        "    if len(df_excel.columns) < 5:\n",
        "        df_excel['Mapped Column'] = pd.Series([None] * len(df_excel), dtype='object')\n",
        "    else:\n",
        "        df_excel.iloc[:, 4] = pd.Series([None] * len(df_excel), dtype='object')  # Clear existing column 5 if it exists\n",
        "\n",
        "    # Create a dictionary from the second Excel file for mapping\n",
        "    mapping_dict = pd.Series(df_kisy.iloc[:, 1].values, index=df_kisy.iloc[:, 0]).to_dict()\n",
        "\n",
        "    # Debug: Print the mapping dictionary\n",
        "    print(\"Mapping dictionary:\", mapping_dict)\n",
        "\n",
        "    # Iterate through rows in used range in column 1 of both files and compare values\n",
        "    for i in range(df_excel.shape[0]):\n",
        "        excel_value = df_excel.iloc[i, 0]  # Column 1 in the first Excel file\n",
        "        # Debug: Print the value being checked\n",
        "        print(f\"Checking Excel value: {excel_value}\")\n",
        "        if excel_value in mapping_dict:\n",
        "            df_excel.iloc[i, 4] = mapping_dict[excel_value]  # Add corresponding value from the second Excel file's column 2 to the first Excel file's column 5\n",
        "            # Debug: Print the mapped value\n",
        "            print(f\"Mapped {excel_value} to {mapping_dict[excel_value]} in row {i}\")\n",
        "\n",
        "    # Save the result to a new Excel file\n",
        "    output_file_path = 'ncbr.um.podkis.op.324.xlsx'\n",
        "    df_excel.to_excel(output_file_path, index=False)\n",
        "\n",
        "    print(f'Result saved to {output_file_path}')\n"
      ],
      "metadata": {
        "colab": {
          "base_uri": "https://localhost:8080/"
        },
        "outputId": "f6770a79-16a7-4d59-a691-528927202ff3",
        "id": "D1mPMyPbUPrW"
      },
      "execution_count": null,
      "outputs": [
        {
          "output_type": "stream",
          "name": "stdout",
          "text": [
            "Mapping dictionary: {'KIS 1.': 'ZDROWE SPOŁECZEŃSTWO', '1.I.': 'BADANIA I ROZWÓJ PRODUKTÓW LECZNICZYCH', '1.II.': 'PRODUKTY LECZNICZE TERAPII ZAAWANSOWANYCH (ATMP) ORAZ BIOLOGICZNE', '1.III.': 'BADANIA I ROZWÓJ INNOWACYJNYCH SUPLEMENTÓW DIETY I ŚRODKÓW SPOŻYWCZYCH SPECJALNEGO PRZEZNACZENIA ŻYWIENIOWEGO', '1.IV.': 'URZĄDZENIA I WYROBY MEDYCZNE', '1.V.': 'TECHNOLOGIE MEDYCZNE', '1.VI.': 'INFORMATYCZNE NARZĘDZIA MEDYCZNE', '1.VII.': 'DIAGNOSTYKA OBRAZOWA ORAZ OPARTA NA INNYCH TECHNIKACH DETEKCJI', '1.VIII.': 'MARKERY/TESTY', '1.IX.': 'TELEMEDYCYNA', '1.X.': 'KOORDYNOWANA OPIEKA ZDROWOTNA', '1.XI.': 'NOWE CELE PREWENCYJNE I/LUB TERAPEUTYCZNE', '1.XII.': 'BADANIA KLINICZNE', '1.XIII.': 'PRODUKTY LECZNICZE BIOLOGICZNE BIOLOGICZNIE RÓWNOWAŻNE DAWNIEJ BIOPODOBNE INNOWACYJNE GENERYCZNE ORAZ WYROBY MEDYCZNE ORAZ SUPLEMENTY DIETY I ŚRODKI SPOŻYWCZE SPECJALNEGO PRZEZNACZENIA ŻYWIENIOWEGO', '1.XIV.': 'SUBSTANCJE CZYNNE (AKTYWNE) PRODUKTÓW LECZNICZYCH (API)', '1.XV.': 'DERMATOLOGICZNE I KOSMETYCZNE PRODUKTY LECZNICZE DO STOSOWANIA ZEWNĘTRZNEGO;', '1.XVI.': 'PRODUKTY LECZNICZE POCHODZENIA NATURALNEGO', 'KIS 2.': 'NOWOCZESNE ROLNICTWO LEŚNICTWO I ŻYWNOŚĆ', '2.I.': 'ELEMENTY WSPÓLNE DLA INNOWACJI SEKTORA ROLNO-SPOŻYWCZEGO I LEŚNO-DRZEWNEGO', '2.II.': 'GLEBA I UŻYTKI ROLNE', '2.III.': 'POSTĘP BIOLOGICZNY W PRODUKCJI ROŚLINNEJ I ZWIERZĘCEJ', '2.IV.': 'TECHNOLOGIA PRODUKCJI ROŚLINNEJ I ZWIERZĘCEJ', '2.V.': 'MASZYNY I URZĄDZENIA ROLNICZE', '2.VI.': 'NAWOZY ORGANICZNE I MINERALNE ŚRODKI OCHRONY ROŚLIN I REGULATORY WZROSTU', '2.VII.': 'PRODUKCJA MAGAZYNOWANIE PRZECHOWALNICTWO', '2.VIII.': 'PRZETWÓRSTWO PŁODÓW ROLNYCH I PRODUKTÓW ZWIERZĘCYCH', '2.IX.': 'INNOWACYJNE METODY POZWALAJĄCE NA POPRAWĘ DOBROSTANU I OCHRONĘ ZDROWIA ZWIERZĄT', '2.X.': 'ŻYWNOŚĆ A KONSUMENT', '2.XI.': 'NOWOCZESNE LEŚNICTWO', '2.XII.': 'INNOWACYJNE PRODUKTY DRZEWNE I DREWNOPOCHODNE', '2.XIII.': 'INDYWIDUALIZACJA PRODUKCJI MEBLARSKIEJ', '2.XIV.': 'INNOWACYJNE PROCESY I PRODUKTY W PRZEMYŚLE CELULOZOWO-PAPIERNICZYM I OPAKOWANIOWYM', 'KIS 3.': 'ZRÓWNOWAŻONE (BIO)PRODUKTY (BIO)PROCESY i ŚRODOWISKO', '3.I.': 'BIOSUROWCE Metody wykorzystania odnawialnych surowców pochodzenia biologicznego niekonkurencyjnych dla żywności zastępujących surowce nieodnawialne.', '3.II.': 'INNOWACYJNE PROCESY (BIO)TECHNOLOGICZNE', '3.III .': 'BIOPRODUKTY I PRODUKTY CHEMII SPECJALISTYCZNEJ', '3.IV.': 'BIOTECHNOLOGIA W OCHRONIE ŚRODOWISKA', 'KIS 4.': 'ZRÓWNOWAŻONA ENERGIA', '4.I.': 'WYTWARZANIE ENERGII', '4.II.': 'SMART GRIDS / INTELIGENTNE SIECI ELEKTROENERGETYCZNE', '4.III.': 'MAGAZYNOWANIE ENERGII', '4.IV.': 'OZE', '4.V.': 'ENERGETYKA PROSUMENCKA', '4.VI.': 'ENERGIA Z ODPADÓW PALIW ALTERNATYWNYCH I OCHRONA ŚRODOWISKA', 'KIS 5.': 'INTELIGENTNE BUDOWNICTWO ZEROEMISYJNE', '5.I.': 'MATERIAŁY I TECHNOLOGIE ', '5.II.': 'SYSTEMY ENERGETYCZNE BUDYNKÓW', '5.III.': 'ROZWÓJ MASZYN I URZĄDZEŃ', '5.IV.': 'ROZWÓJ APLIKACJI I ŚRODOWISK PROGRAMISTYCZNYCH', '5.V.': 'ZINTEGROWANE PROJEKTOWANIE', '5.VI.': 'WERYFIKACJA ENERGETYCZNA I ŚRODOWISKOWA', '5.VII.': 'PRZETWARZANIE I POWTÓRNE UŻYCIE MATERIAŁÓW', 'KIS 6.': 'TRANSPORT PRZYJAZNY ŚRODOWISKU', '6.I.': 'INNOWACYJNE ŚRODKI TRANSPORTU', '6.II.': 'PROEKOLOGICZNE ROZWIĄZANIA KONSTRUKCYJNE I KOMPONENTY W ŚRODKACH TRANSPORTU', '6.III.': 'SYSTEMY ZARZĄDZANIA TRANSPORTEM', '6.IV.': 'INNOWACYJNE MATERIAŁY W ŚRODKACH TRANSPORTU', '6.V.': 'INNOWACYJNE TECHNOLOGIE PRODUKCJI ŚRODKÓW TRANSPORTU I ICH CZEŚCI', 'KIS 7.': 'GOSPODARKA O OBIEGU ZAMKNIĘTYM', '7.I.': 'EKOPROJEKTOWANIE DLA GOZ', '7.II.': 'POZYSKANIE I WYKORZYSTANIE ZASOBÓW ODNAWIALNYCH I NIEODNAWIALNYCH', '7.III.': 'PRZETWÓRSTWO I PRODUKCJA', '7.IV.': 'UŻYTKOWANIE I KONSUMPCJA', '7.V.': 'ODPADY I ŚCIEKI', 'KIS 8.': 'ZAAWANSOWANE MATERIAŁY I NANOTECHNOLOGIA', '8.I.': 'MATERIAŁY I NANOMATERIAŁY EKOLOGICZNE BIOMIMETYCZNE BIONICZNE I BIODEGRADOWALNE Z UWZGLĘDNIENIEM ŚLADU ŚRODOWISKOWEGO OBIEGU ZAM-KNIĘTEGO MINIMALIZACJI ODPADÓW ORAZ CZYSTSZEJ TECHNOLOGII I NANOTECH-NOLOGII WRAZ Z RACJONALIZACJĄ STOSOWANIA MATERIAŁÓW POLIMEROWYCH', '8.II.': 'WIELOFUNKCYJNE I NANOSTRUKTURALNE MATERIAŁY O RADYKALNIE ZWIĘKSZONEJ NOWEJ FUNKCJONALNOŚCI ORAZ ICH TECHNOLOGIE', '8.III.': 'MATERIAŁY I NANOMATERIAŁY KOMPOZYTOWE ULTRALEKKIE ULTRAWYTRZY-MAŁE I O RADYKALNIE PODWYŻSZONEJ ŻAROODPORNOŚCI I ŻAROWYTRZYMAŁOŚCI', '8.IV.': 'ZAAWANSOWANE MATERIAŁY I NANOMATERIAŁY DLA ENERGII ODNAWIALNEJ DO PRZETWARZANIA MAGAZYNOWANIA I RACJONALIZACJI GOSPODAROWANIA ENERGIĄ', '8.V.': 'MATERIAŁY I NANOMATERIAŁY KOMPOZYTOWE O OSNOWIE LUB WZMOCNIENIU Z NANOWŁÓKIEN NANODRUTÓW I NANORUREK W TYM WĘGLOWYCH I ICH TECHNOLOGIE', '8.VI.': 'ZAAWANSOWANE MATERIAŁY TECHNOLOGIE I NANOTECHNOLOGIE PRODUKTÓW O WYSOKIEJ WARTOŚCI DODANEJ I DUŻYM ZNACZENIU DLA ŁAŃCUCHÓW WARTOŚCI W PRZEMYŚLE WRAZ Z TECHNOLOGIAMI PRZYROSTOWYMI 3D I 4D', '8.VII.': 'ZAAWANSOWANE MATERIAŁY I NANOMATERIAŁY ORAZ TECHNOLOGIE I NANOTECHNOLOGIE DLA CELÓW MEDYCZNYCH I OCHRONY ZDROWIA ORAZ MATERIAŁY INŻYNIERYJNO-BIOLOGICZNE Z UDZIAŁEM ŻYWYCH TKANEK I KOMÓREK', '8.VIII.': 'ZAAWANSOWANE MATERIAŁY I NANOMATERIAŁY ORAZ TECHNOLOGIE I NANO-TECHNOLOGIE DO ZASTOSOWAŃ ZWIĄZANYCH Z BEZPIECZEŃSTWEM', '8.IX.': 'WIELOFUNKCYJNE WARSTWY I NANOWARSTWY PRZECIWZUŻYCIOWE OCHRONNE I O SPECJALNYCH WŁAŚCIWOŚCIACH FIZYKOCHEMICZNYCH ORAZ KOMPOZYTY I NANOKOMPOZYTY PRZESTRZENNE WARSTWOWE SAMOORGANIZUJĄCE SIĘ I SAMONA-PRAWIAJĄCE SIĘ I SAMONAPRAWIALNE', '8.X.': 'MODELOWANIE I SYMULACJA WYKORZYSTANIE BAZ DANYCH I CYFROWYCH BLIŹNIAKÓW W ODNIESIENIU DO STRUKTURY I WŁAŚCIWOŚCI ORAZ KOMPUTEROWE WSPOMAGANIE PROJEKTOWANIA I WYTWARZANIA MATERIAŁÓW I NANOMATERIAŁÓW', 'KIS 9.': 'ELEKTRONIKA I FOTONIKA', '9.I.': 'SENSORY I DETEKTORY (KONSTRUKCJA TECHNOLOGIA MATERIAŁY)', '9.II.': 'TECHNOLOGIE MATERIAŁY I URZĄDZENIA DLA FOTOWOLTAIKI', '9.III.': 'TECHNOLOGIE MATERIAŁY I URZĄDZENIA ŚWIATŁOWODOWE', '9.IV.': 'INNOWACYJNE ŹRÓDŁA PROMIENIOWANIA OPTYCZNEGO (MATERIAŁY TECHNOLOGIE URZĄDZENIA)', '9.V.': 'SYSTEMY ORAZ SIECI SENSOROWE I TELEKOMUNIKACYJNE', '9.VI.': 'INNOWACYJNE UKŁADY I SYSTEMY ELEKTRONIKI OPTOELEKTRONIKI I FOTONIKI SCALONEJ', '9.VII.': 'INNOWACYJNE TECHNOLOGIE I SYSTEMY ELEKTRONIKI DRUKOWANEJ', '9.VIII.': 'ZAGADNIENIA APLIKACYJNE', '9.IX.': 'ZAGADNIENIA HORYZONTALNE W TECHNOLOGIACH SENSOROWYCH I FOTONICZNYCH', 'KIS 10.': 'TECHNOLOGIE INFORMACYJNE KOMUNIKACYJNE ORAZ GEOINFORMACYJNE', '10.I.': 'TECHNOLOGIE INTERNETU PRZYSZŁOŚCI TECHNOLOGIE INTERNETU RZECZY SYSTEMY WBUDOWANE', '10.II.': 'INTELIGENTNE SIECI W INFRASTRUKTURACH', '10.III.': 'ARCHITEKTURY SYSTEMY I APLIKACJE W INTELIGENTNYCH SIECIACH', '10.IV.': 'ZARZĄDZANIE INFORMACJĄ', '10.V.': 'RZECZYWISTOŚĆ MIESZANA ORAZ INTERFEJSY CZŁOWIEK-MASZYNA I MASZYNA-MASZYNA', '10.VI.': 'CYBERBEZPIECZEŃSTWO', '10.VII.': 'ROZWÓJ SZTUCZNEJ INTELIGENCJI', '10.VIII.': 'POZYCJONOWANIE I NAWIGACJA', '10.IX.': 'POZYSKIWANIE GEOINFORMACJI', '10.X.': 'PRZETWARZANIE ANALIZOWANIE UDOSTĘPNIANIE ORAZ WIZUALIZACJA GEOINFORMACJI', '10.XI.': 'GEOINFORMATYKA', '10.XII.': 'INNOWACYJNE ZASTOSOWANIA GEOINFORMACJI', 'KIS 11.': 'AUTOMATYZACJA I ROBOTYKA', '11.I.': 'PROJEKTOWANIE I OPTYMALIZACJA PROCESÓW WYTWARZANIA', '11.II.': 'TECHNOLOGIE AUTOMATYZACJI I ROBOTYZACJI PROCESÓW', '11.III.': 'DIAGNOSTYKA I MONITOROWANIE', '11.IV.': 'SYSTEMY STEROWANIA', '11.V.': 'MASZYNY I URZĄDZENIA AUTOMATYZUJĄCE I ROBOTYZUJĄCE PROCESY', 'KIS 12.': 'PRZEMYSŁY KREATYWNE', '12.I.': 'WZORNICTWO- POJEKTOWANIE', '12.II.': 'GRY', '12.III.': 'MULTIMEDIA', '12.IV.': 'ROZSZERZONA RZECZYWISTOŚĆ (XR)', 'KIS 13.': 'TECHNOLOGIE MORSKIE', '13.I.': 'PROJEKTOWANIE BUDOWA I KONWERSJA SPECJALISTYCZNYCH JEDNOSTEK PŁYWAJĄCYCH ORAZ ICH SPECJALISTYCZNEGO WYPOSAŻENIA', '13.II.': 'PROJEKTOWANIE BUDOWA I PRZEBUDOWA KONSTRUKCJI MORSKICH I PRZYBRZEŻNYCH', '13.III.': 'PROCESY I URZĄDZENIA WYKORZYSTYWANE NA POTRZEBY LOGISTYKI OPARTEJ O TRANSPORT MORSKI I ŚRÓDLĄDOWY', '13.IV.': 'NOWOCZESNE TECHNOLOGIE W PRZEMYŚLE POGŁĘBIARSKIM'}\n",
            "Checking Excel value: 1.\n",
            "Checking Excel value: 1.III.\n",
            "Mapped 1.III. to BADANIA I ROZWÓJ INNOWACYJNYCH SUPLEMENTÓW DIETY I ŚRODKÓW SPOŻYWCZYCH SPECJALNEGO PRZEZNACZENIA ŻYWIENIOWEGO in row 1\n",
            "Checking Excel value: 1.VII.\n",
            "Mapped 1.VII. to DIAGNOSTYKA OBRAZOWA ORAZ OPARTA NA INNYCH TECHNIKACH DETEKCJI in row 2\n",
            "Checking Excel value: 1.XVI.\n",
            "Mapped 1.XVI. to PRODUKTY LECZNICZE POCHODZENIA NATURALNEGO in row 3\n",
            "Checking Excel value: 10.\n",
            "Checking Excel value: 10.II.\n",
            "Mapped 10.II. to INTELIGENTNE SIECI W INFRASTRUKTURACH in row 5\n",
            "Checking Excel value: 10.III.\n",
            "Mapped 10.III. to ARCHITEKTURY SYSTEMY I APLIKACJE W INTELIGENTNYCH SIECIACH in row 6\n",
            "Checking Excel value: 10.IV.\n",
            "Mapped 10.IV. to ZARZĄDZANIE INFORMACJĄ in row 7\n",
            "Checking Excel value: 10.VI.\n",
            "Mapped 10.VI. to CYBERBEZPIECZEŃSTWO in row 8\n",
            "Checking Excel value: 10.VII.\n",
            "Mapped 10.VII. to ROZWÓJ SZTUCZNEJ INTELIGENCJI in row 9\n",
            "Checking Excel value: 11.I.\n",
            "Mapped 11.I. to PROJEKTOWANIE I OPTYMALIZACJA PROCESÓW WYTWARZANIA in row 10\n",
            "Checking Excel value: 11.II.\n",
            "Mapped 11.II. to TECHNOLOGIE AUTOMATYZACJI I ROBOTYZACJI PROCESÓW in row 11\n",
            "Checking Excel value: 12.III.\n",
            "Mapped 12.III. to MULTIMEDIA in row 12\n",
            "Checking Excel value: 2.III.\n",
            "Mapped 2.III. to POSTĘP BIOLOGICZNY W PRODUKCJI ROŚLINNEJ I ZWIERZĘCEJ in row 13\n",
            "Checking Excel value: 2.VIII.\n",
            "Mapped 2.VIII. to PRZETWÓRSTWO PŁODÓW ROLNYCH I PRODUKTÓW ZWIERZĘCYCH in row 14\n",
            "Checking Excel value: 2.XIII.\n",
            "Mapped 2.XIII. to INDYWIDUALIZACJA PRODUKCJI MEBLARSKIEJ in row 15\n",
            "Checking Excel value: 3.III.\n",
            "Checking Excel value: 4.I.\n",
            "Mapped 4.I. to WYTWARZANIE ENERGII in row 17\n",
            "Checking Excel value: 4.II.\n",
            "Mapped 4.II. to SMART GRIDS / INTELIGENTNE SIECI ELEKTROENERGETYCZNE in row 18\n",
            "Checking Excel value: 4.IV.\n",
            "Mapped 4.IV. to OZE in row 19\n",
            "Checking Excel value: 5.I.\n",
            "Mapped 5.I. to MATERIAŁY I TECHNOLOGIE  in row 20\n",
            "Checking Excel value: 6.\n",
            "Checking Excel value: 6.I.\n",
            "Mapped 6.I. to INNOWACYJNE ŚRODKI TRANSPORTU in row 22\n",
            "Checking Excel value: 6.II.\n",
            "Mapped 6.II. to PROEKOLOGICZNE ROZWIĄZANIA KONSTRUKCYJNE I KOMPONENTY W ŚRODKACH TRANSPORTU in row 23\n",
            "Checking Excel value: 7.\n",
            "Checking Excel value: 7.I.\n",
            "Mapped 7.I. to EKOPROJEKTOWANIE DLA GOZ in row 25\n",
            "Checking Excel value: 7.III.\n",
            "Mapped 7.III. to PRZETWÓRSTWO I PRODUKCJA in row 26\n",
            "Checking Excel value: 8.I.\n",
            "Mapped 8.I. to MATERIAŁY I NANOMATERIAŁY EKOLOGICZNE BIOMIMETYCZNE BIONICZNE I BIODEGRADOWALNE Z UWZGLĘDNIENIEM ŚLADU ŚRODOWISKOWEGO OBIEGU ZAM-KNIĘTEGO MINIMALIZACJI ODPADÓW ORAZ CZYSTSZEJ TECHNOLOGII I NANOTECH-NOLOGII WRAZ Z RACJONALIZACJĄ STOSOWANIA MATERIAŁÓW POLIMEROWYCH in row 27\n",
            "Checking Excel value: 8.IV.\n",
            "Mapped 8.IV. to ZAAWANSOWANE MATERIAŁY I NANOMATERIAŁY DLA ENERGII ODNAWIALNEJ DO PRZETWARZANIA MAGAZYNOWANIA I RACJONALIZACJI GOSPODAROWANIA ENERGIĄ in row 28\n",
            "Checking Excel value: 8.IX.\n",
            "Mapped 8.IX. to WIELOFUNKCYJNE WARSTWY I NANOWARSTWY PRZECIWZUŻYCIOWE OCHRONNE I O SPECJALNYCH WŁAŚCIWOŚCIACH FIZYKOCHEMICZNYCH ORAZ KOMPOZYTY I NANOKOMPOZYTY PRZESTRZENNE WARSTWOWE SAMOORGANIZUJĄCE SIĘ I SAMONA-PRAWIAJĄCE SIĘ I SAMONAPRAWIALNE in row 29\n",
            "Checking Excel value: 9.\n",
            "Checking Excel value: ND\n",
            "Result saved to ncbr.um.podkis.op.324.xlsx\n"
          ]
        }
      ]
    },
    {
      "cell_type": "code",
      "source": [],
      "metadata": {
        "id": "YFewzOy4XBry"
      },
      "execution_count": null,
      "outputs": []
    },
    {
      "cell_type": "code",
      "source": [
        "import pandas as pd\n",
        "\n",
        "# Load the Excel file\n",
        "file_path = 'ncbr.um.kis.324.xlsx'\n",
        "df = pd.read_excel(file_path)\n",
        "\n",
        "# Group by column 1 and sum columns 2, 3, and 4\n",
        "df_grouped = df.groupby(df.columns[0]).agg({df.columns[1]: 'sum', df.columns[2]: 'sum', df.columns[3]: 'sum'}).reset_index()\n",
        "\n",
        "# Save the result to a new Excel file\n",
        "output_file_path = 'ncbr.um.kis.kis.xlsx'\n",
        "df_grouped.to_excel(output_file_path, index=False)\n",
        "\n",
        "print(f'Result saved to {output_file_path}')\n"
      ],
      "metadata": {
        "colab": {
          "base_uri": "https://localhost:8080/"
        },
        "outputId": "fbda1efe-ed35-4b10-a743-739c38302cc2",
        "id": "goUU5DyjXCUL"
      },
      "execution_count": null,
      "outputs": [
        {
          "output_type": "stream",
          "name": "stdout",
          "text": [
            "Result saved to ncbr.um.kis.kis.xlsx\n"
          ]
        }
      ]
    }
  ]
}