{
  "nbformat": 4,
  "nbformat_minor": 0,
  "metadata": {
    "colab": {
      "provenance": [],
      "authorship_tag": "ABX9TyM60zvfnb0PoiYiIF8CXYp4",
      "include_colab_link": true
    },
    "kernelspec": {
      "name": "python3",
      "display_name": "Python 3"
    },
    "language_info": {
      "name": "python"
    }
  },
  "cells": [
    {
      "cell_type": "markdown",
      "metadata": {
        "id": "view-in-github",
        "colab_type": "text"
      },
      "source": [
        "<a href=\"https://colab.research.google.com/github/wsGit7/Invest/blob/main/KISpodobHorizon.ipynb\" target=\"_parent\"><img src=\"https://colab.research.google.com/assets/colab-badge.svg\" alt=\"Open In Colab\"/></a>"
      ]
    },
    {
      "cell_type": "code",
      "source": [
        "!pip install PyPDF2\n",
        "!pip install pandas"
      ],
      "metadata": {
        "colab": {
          "base_uri": "https://localhost:8080/"
        },
        "id": "Z5ulnO2byUPe",
        "outputId": "10edd495-fc43-4182-8e4b-d3cfde425a63"
      },
      "execution_count": 2,
      "outputs": [
        {
          "output_type": "stream",
          "name": "stdout",
          "text": [
            "Collecting PyPDF2\n",
            "  Downloading pypdf2-3.0.1-py3-none-any.whl.metadata (6.8 kB)\n",
            "Downloading pypdf2-3.0.1-py3-none-any.whl (232 kB)\n",
            "\u001b[?25l   \u001b[90m━━━━━━━━━━━━━━━━━━━━━━━━━━━━━━━━━━━━━━━━\u001b[0m \u001b[32m0.0/232.6 kB\u001b[0m \u001b[31m?\u001b[0m eta \u001b[36m-:--:--\u001b[0m\r\u001b[2K   \u001b[91m━━━━━━━━━━━━━━━━━━━━━━━━━━\u001b[0m\u001b[90m╺\u001b[0m\u001b[90m━━━━━━━━━━━━━\u001b[0m \u001b[32m153.6/232.6 kB\u001b[0m \u001b[31m4.3 MB/s\u001b[0m eta \u001b[36m0:00:01\u001b[0m\r\u001b[2K   \u001b[90m━━━━━━━━━━━━━━━━━━━━━━━━━━━━━━━━━━━━━━━━\u001b[0m \u001b[32m232.6/232.6 kB\u001b[0m \u001b[31m4.7 MB/s\u001b[0m eta \u001b[36m0:00:00\u001b[0m\n",
            "\u001b[?25hInstalling collected packages: PyPDF2\n",
            "Successfully installed PyPDF2-3.0.1\n",
            "Requirement already satisfied: pandas in /usr/local/lib/python3.11/dist-packages (2.2.2)\n",
            "Requirement already satisfied: numpy>=1.23.2 in /usr/local/lib/python3.11/dist-packages (from pandas) (2.0.2)\n",
            "Requirement already satisfied: python-dateutil>=2.8.2 in /usr/local/lib/python3.11/dist-packages (from pandas) (2.9.0.post0)\n",
            "Requirement already satisfied: pytz>=2020.1 in /usr/local/lib/python3.11/dist-packages (from pandas) (2025.2)\n",
            "Requirement already satisfied: tzdata>=2022.7 in /usr/local/lib/python3.11/dist-packages (from pandas) (2025.2)\n",
            "Requirement already satisfied: six>=1.5 in /usr/local/lib/python3.11/dist-packages (from python-dateutil>=2.8.2->pandas) (1.17.0)\n"
          ]
        }
      ]
    },
    {
      "cell_type": "code",
      "execution_count": 3,
      "metadata": {
        "colab": {
          "base_uri": "https://localhost:8080/"
        },
        "id": "SNBmQ6vVxa0j",
        "outputId": "ac5b7bcd-1809-4772-aa1e-858e71920f67"
      },
      "outputs": [
        {
          "output_type": "stream",
          "name": "stdout",
          "text": [
            "Processing complete. Check 'tomek.txt' for results.\n"
          ]
        }
      ],
      "source": [
        "import pandas as pd\n",
        "import PyPDF2\n",
        "import re\n",
        "\n",
        "# Read PDF content from ewa.pdf\n",
        "pdf_text = \"\"\n",
        "with open(\"CULTURE.pdf\", \"rb\") as pdf_file:\n",
        "    # Use PdfReader depending on your PyPDF2 version\n",
        "    reader = PyPDF2.PdfReader(pdf_file)\n",
        "    for page in reader.pages:\n",
        "        text = page.extract_text()\n",
        "        if text:\n",
        "            pdf_text += text\n",
        "\n",
        "# Read Excel file zosia.xlsx into a DataFrame\n",
        "df = pd.read_excel(\"zosia.xlsx\")\n",
        "\n",
        "# List to hold output lines\n",
        "output_lines = []\n",
        "\n",
        "# Loop over each row in the DataFrame\n",
        "for index, row in df.iterrows():\n",
        "    # Get the text from the 'ang' column\n",
        "    text_ang = str(row['ang'])  # ensure it's a string\n",
        "    # Tokenize into words (splitting on non-word characters)\n",
        "    words = re.findall(r'\\w+', text_ang)\n",
        "\n",
        "    # Container for found words for this row\n",
        "    found_words = []\n",
        "\n",
        "    # Check each word: construct a whole-word pattern and search in pdf_text (ignoring case)\n",
        "    for word in words:\n",
        "        pattern = r'\\b' + re.escape(word) + r'\\b'\n",
        "        if re.search(pattern, pdf_text, re.IGNORECASE):\n",
        "            found_words.append(word)\n",
        "\n",
        "    # If any of the words are found in the PDF, create an output line with 'nr' and 'sub'\n",
        "    if found_words:\n",
        "        nr_val = row['nr']\n",
        "        sub_val = row['sub']\n",
        "        output_lines.append(f\"nr: {nr_val}, sub: {sub_val}, found words: {found_words}\")\n",
        "\n",
        "# Write the output lines to tomek.txt\n",
        "with open(\"tomek.txt\", \"w\", encoding=\"utf-8\") as outfile:\n",
        "    for line in output_lines:\n",
        "        outfile.write(line + \"\\n\")\n",
        "\n",
        "print(\"Processing complete. Check 'tomek.txt' for results.\")\n"
      ]
    },
    {
      "cell_type": "code",
      "source": [],
      "metadata": {
        "id": "AvNIhTJIyS2G"
      },
      "execution_count": null,
      "outputs": []
    }
  ]
}