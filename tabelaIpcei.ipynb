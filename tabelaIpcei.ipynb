{
  "nbformat": 4,
  "nbformat_minor": 0,
  "metadata": {
    "colab": {
      "provenance": [],
      "authorship_tag": "ABX9TyPUF7rl2EFibAb9rT5+7D+i",
      "include_colab_link": true
    },
    "kernelspec": {
      "name": "python3",
      "display_name": "Python 3"
    },
    "language_info": {
      "name": "python"
    }
  },
  "cells": [
    {
      "cell_type": "markdown",
      "metadata": {
        "id": "view-in-github",
        "colab_type": "text"
      },
      "source": [
        "<a href=\"https://colab.research.google.com/github/wsGit7/Invest/blob/main/tabelaIpcei.ipynb\" target=\"_parent\"><img src=\"https://colab.research.google.com/assets/colab-badge.svg\" alt=\"Open In Colab\"/></a>"
      ]
    },
    {
      "cell_type": "code",
      "source": [],
      "metadata": {
        "id": "8vzSkOLBcVY3"
      },
      "execution_count": null,
      "outputs": []
    },
    {
      "cell_type": "code",
      "source": [],
      "metadata": {
        "id": "X5vQxAvOd-ql"
      },
      "execution_count": null,
      "outputs": []
    },
    {
      "cell_type": "code",
      "execution_count": 1,
      "metadata": {
        "colab": {
          "base_uri": "https://localhost:8080/"
        },
        "id": "C8GbNQONUsU8",
        "outputId": "67db1e38-3f7b-4a8c-c003-a3cc714f796e"
      },
      "outputs": [
        {
          "output_type": "stream",
          "name": "stdout",
          "text": [
            "Collecting pymupdf\n",
            "  Downloading pymupdf-1.25.3-cp39-abi3-manylinux2014_x86_64.manylinux_2_17_x86_64.whl.metadata (3.4 kB)\n",
            "Downloading pymupdf-1.25.3-cp39-abi3-manylinux2014_x86_64.manylinux_2_17_x86_64.whl (20.0 MB)\n",
            "\u001b[2K   \u001b[90m━━━━━━━━━━━━━━━━━━━━━━━━━━━━━━━━━━━━━━━━\u001b[0m \u001b[32m20.0/20.0 MB\u001b[0m \u001b[31m42.2 MB/s\u001b[0m eta \u001b[36m0:00:00\u001b[0m\n",
            "\u001b[?25hInstalling collected packages: pymupdf\n",
            "Successfully installed pymupdf-1.25.3\n"
          ]
        }
      ],
      "source": [
        "!pip install pymupdf"
      ]
    },
    {
      "cell_type": "code",
      "source": [
        "!pip install python-docx"
      ],
      "metadata": {
        "colab": {
          "base_uri": "https://localhost:8080/"
        },
        "id": "yCAQRGWjZbg4",
        "outputId": "dfc1d903-ed03-4907-e256-a16d36cba6b0"
      },
      "execution_count": 2,
      "outputs": [
        {
          "output_type": "stream",
          "name": "stdout",
          "text": [
            "Collecting python-docx\n",
            "  Downloading python_docx-1.1.2-py3-none-any.whl.metadata (2.0 kB)\n",
            "Requirement already satisfied: lxml>=3.1.0 in /usr/local/lib/python3.11/dist-packages (from python-docx) (5.3.1)\n",
            "Requirement already satisfied: typing-extensions>=4.9.0 in /usr/local/lib/python3.11/dist-packages (from python-docx) (4.12.2)\n",
            "Downloading python_docx-1.1.2-py3-none-any.whl (244 kB)\n",
            "\u001b[?25l   \u001b[90m━━━━━━━━━━━━━━━━━━━━━━━━━━━━━━━━━━━━━━━━\u001b[0m \u001b[32m0.0/244.3 kB\u001b[0m \u001b[31m?\u001b[0m eta \u001b[36m-:--:--\u001b[0m\r\u001b[2K   \u001b[91m━━━━━━━━━━━━━━━━━━━━━━━━━━━━━━━━━━━━━━\u001b[0m\u001b[91m╸\u001b[0m\u001b[90m━\u001b[0m \u001b[32m235.5/244.3 kB\u001b[0m \u001b[31m7.6 MB/s\u001b[0m eta \u001b[36m0:00:01\u001b[0m\r\u001b[2K   \u001b[90m━━━━━━━━━━━━━━━━━━━━━━━━━━━━━━━━━━━━━━━━\u001b[0m \u001b[32m244.3/244.3 kB\u001b[0m \u001b[31m5.5 MB/s\u001b[0m eta \u001b[36m0:00:00\u001b[0m\n",
            "\u001b[?25hInstalling collected packages: python-docx\n",
            "Successfully installed python-docx-1.1.2\n"
          ]
        }
      ]
    },
    {
      "cell_type": "code",
      "source": [
        "import os\n",
        "import fitz  # PyMuPDF\n",
        "from docx import Document\n",
        "\n",
        "def merge_pdfs_to_docx(folder_path, output_docx_path):\n",
        "    # Create a new Document object\n",
        "    doc = Document()\n",
        "\n",
        "    # Iterate over all PDF files in the given folder\n",
        "    for filename in sorted(os.listdir(folder_path)):\n",
        "        if filename.endswith(\".pdf\"):\n",
        "            # Add the filename as a heading in the DOCX document\n",
        "            doc.add_heading(filename, level=1)\n",
        "\n",
        "            # Open the PDF file\n",
        "            pdf_path = os.path.join(folder_path, filename)\n",
        "            pdf_document = fitz.open(pdf_path)\n",
        "\n",
        "            # Extract text from each page of the PDF and add to the DOCX document\n",
        "            for page_num in range(len(pdf_document)):\n",
        "                page = pdf_document.load_page(page_num)\n",
        "                text = page.get_text(\"text\")\n",
        "                doc.add_paragraph(text)\n",
        "\n",
        "    # Save the merged content to the output DOCX file\n",
        "    doc.save(output_docx_path)\n",
        "\n",
        "# Specify the folder containing PDF files and the output DOCX file path\n",
        "folder_path = \".\"  # Current folder\n",
        "output_docx_path = \"zosia.docx\"\n",
        "\n",
        "# Merge the PDFs and write to the DOCX file\n",
        "merge_pdfs_to_docx(folder_path, output_docx_path)\n",
        "print(\"PDFs merged and written to zosia.docx\")\n"
      ],
      "metadata": {
        "colab": {
          "base_uri": "https://localhost:8080/"
        },
        "id": "OC9h_bQ4Zkve",
        "outputId": "d0037c3c-1744-4552-ead3-ea9986ebf328"
      },
      "execution_count": 3,
      "outputs": [
        {
          "output_type": "stream",
          "name": "stdout",
          "text": [
            "PDFs merged and written to zosia.docx\n"
          ]
        }
      ]
    },
    {
      "cell_type": "code",
      "source": [
        "import os\n",
        "import fitz  # PyMuPDF\n",
        "\n",
        "def merge_pdfs(folder_path, output_pdf_path):\n",
        "    # Create a new PDF document\n",
        "    merged_pdf = fitz.open()\n",
        "\n",
        "    # Iterate over all PDF files in the given folder\n",
        "    for filename in sorted(os.listdir(folder_path)):\n",
        "        if filename.endswith(\".pdf\"):\n",
        "            # Open the PDF file\n",
        "            pdf_path = os.path.join(folder_path, filename)\n",
        "            pdf_document = fitz.open(pdf_path)\n",
        "\n",
        "            # Insert a title page with the filename as a heading\n",
        "            title_page = fitz.open()  # Create a blank single-page PDF\n",
        "            title_page.new_page(width=595, height=842)  # A4 size in points\n",
        "            title_page[0].insert_text((72, 72), filename, fontsize=20)  # Insert title text\n",
        "\n",
        "            # Add the title page to the merged PDF\n",
        "            merged_pdf.insert_pdf(title_page)\n",
        "\n",
        "            # Add the content of the current PDF to the merged PDF\n",
        "            merged_pdf.insert_pdf(pdf_document)\n",
        "\n",
        "    # Save the merged content to the output PDF file\n",
        "    merged_pdf.save(output_pdf_path)\n",
        "\n",
        "# Specify the folder containing PDF files and the output PDF file path\n",
        "folder_path = \"/content/tomek\"  # Current folder\n",
        "output_pdf_path = \"CAM.pdf\"\n",
        "\n",
        "# Merge the PDFs and write to the PDF file\n",
        "merge_pdfs(folder_path, output_pdf_path)\n",
        "print(\"PDFs merged and written to zosia.pdf\")\n"
      ],
      "metadata": {
        "colab": {
          "base_uri": "https://localhost:8080/"
        },
        "id": "Tva5_LvPeA26",
        "outputId": "ca491dc0-23b4-45ac-a42a-fa661b2e4c3e"
      },
      "execution_count": 8,
      "outputs": [
        {
          "output_type": "stream",
          "name": "stdout",
          "text": [
            "PDFs merged and written to zosia.pdf\n"
          ]
        }
      ]
    }
  ]
}