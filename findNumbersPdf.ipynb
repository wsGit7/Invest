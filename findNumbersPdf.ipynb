{
  "nbformat": 4,
  "nbformat_minor": 0,
  "metadata": {
    "colab": {
      "provenance": [],
      "authorship_tag": "ABX9TyMT/j9plxmKKRv724n1BASH",
      "include_colab_link": true
    },
    "kernelspec": {
      "name": "python3",
      "display_name": "Python 3"
    },
    "language_info": {
      "name": "python"
    }
  },
  "cells": [
    {
      "cell_type": "markdown",
      "metadata": {
        "id": "view-in-github",
        "colab_type": "text"
      },
      "source": [
        "<a href=\"https://colab.research.google.com/github/wsGit7/Invest/blob/main/findNumbersPdf.ipynb\" target=\"_parent\"><img src=\"https://colab.research.google.com/assets/colab-badge.svg\" alt=\"Open In Colab\"/></a>"
      ]
    },
    {
      "cell_type": "code",
      "execution_count": 1,
      "metadata": {
        "colab": {
          "base_uri": "https://localhost:8080/"
        },
        "id": "SoJmPO7JgJ_G",
        "outputId": "a85e6da9-04ce-47e2-8521-13bf75cec6a4"
      },
      "outputs": [
        {
          "output_type": "stream",
          "name": "stdout",
          "text": [
            "Collecting PyPDF2\n",
            "  Downloading pypdf2-3.0.1-py3-none-any.whl.metadata (6.8 kB)\n",
            "Downloading pypdf2-3.0.1-py3-none-any.whl (232 kB)\n",
            "\u001b[?25l   \u001b[90m━━━━━━━━━━━━━━━━━━━━━━━━━━━━━━━━━━━━━━━━\u001b[0m \u001b[32m0.0/232.6 kB\u001b[0m \u001b[31m?\u001b[0m eta \u001b[36m-:--:--\u001b[0m\r\u001b[2K   \u001b[90m━━━━━━━━━━━━━━━━━━━━━━━━━━━━━━━━━━━━━━━━\u001b[0m \u001b[32m232.6/232.6 kB\u001b[0m \u001b[31m13.5 MB/s\u001b[0m eta \u001b[36m0:00:00\u001b[0m\n",
            "\u001b[?25hInstalling collected packages: PyPDF2\n",
            "Successfully installed PyPDF2-3.0.1\n"
          ]
        }
      ],
      "source": [
        "!pip install PyPDF2"
      ]
    },
    {
      "cell_type": "code",
      "source": [
        "import os\n",
        "import re\n",
        "from PyPDF2 import PdfReader\n",
        "\n",
        "# Define the folder containing PDF files\n",
        "folder_path = '/content/ustawy'\n",
        "\n",
        "# Define patterns to exclude numbers\n",
        "exclude_patterns = [\"Art\\\\. \", \"§ \", \"\\\\. \",\"art\\\\. \", \"Rozdział \", \"ust. \", \"pkt \", \"poz\\\\.\", \"s. \",\"Nr\", \"Dz\\\\. U\\\\.\"]\n",
        "\n",
        "def should_exclude(text):\n",
        "    # Check if any of the exclude patterns precedes the number\n",
        "    for pattern in exclude_patterns:\n",
        "        if re.search(fr'{pattern}\\s*\\d', text):\n",
        "            return True\n",
        "    # Check if the number is followed by \")\"\n",
        "    if re.search(r'\\d\\)', text):\n",
        "        return True\n",
        "    # Check if the line starts with a number followed by a full stop\n",
        "    if re.search(r'^\\d+\\.', text):\n",
        "        return True\n",
        "    return False\n",
        "\n",
        "# Open the output file in write mode\n",
        "with open('ustawyLiczby.txt', 'w') as output_file:\n",
        "    # Iterate through each PDF file in the folder\n",
        "    for filename in os.listdir(folder_path):\n",
        "        if filename.endswith('.pdf'):\n",
        "            pdf_path = os.path.join(folder_path, filename)\n",
        "\n",
        "            # Open and read the PDF file\n",
        "            with open(pdf_path, 'rb') as file:\n",
        "                reader = PdfReader(file)\n",
        "                for page_num in range(len(reader.pages)):\n",
        "                    page = reader.pages[page_num]\n",
        "                    text = page.extract_text()\n",
        "\n",
        "                    # Split the text into lines and process each line\n",
        "                    lines = text.split('\\n')\n",
        "                    for i, line in enumerate(lines):\n",
        "                        if re.search(r'\\d', line) and not should_exclude(line):\n",
        "                            preceding_line = lines[i - 1] if i > 0 else \"\"\n",
        "                            following_line = lines[i + 1] if i < len(lines) - 1 else \"\"\n",
        "                            # Write to the output file\n",
        "                            output_file.write(f\"File: {filename}\\n\")\n",
        "                            output_file.write(f\"Preceding Line: {preceding_line}\\n\")\n",
        "                            output_file.write(f\"Line with Numbers: {line}\\n\")\n",
        "                            output_file.write(f\"Following Line: {following_line}\\n\")\n",
        "                            output_file.write(\"\\n\")\n",
        "\n",
        "print(\"Processing complete. Check the ustawyLiczby.txt file for results.\")\n"
      ],
      "metadata": {
        "colab": {
          "base_uri": "https://localhost:8080/"
        },
        "id": "UDqXiRJFuX1c",
        "outputId": "697d4472-ab07-4707-f24c-355a0c080a12"
      },
      "execution_count": 8,
      "outputs": [
        {
          "output_type": "stream",
          "name": "stdout",
          "text": [
            "Processing complete. Check the ustawyLiczby.txt file for results.\n"
          ]
        }
      ]
    }
  ]
}