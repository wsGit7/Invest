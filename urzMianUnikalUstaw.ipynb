{
  "nbformat": 4,
  "nbformat_minor": 0,
  "metadata": {
    "colab": {
      "provenance": [],
      "authorship_tag": "ABX9TyPTP/AQfQPqT9EnP/XVZZam",
      "include_colab_link": true
    },
    "kernelspec": {
      "name": "python3",
      "display_name": "Python 3"
    },
    "language_info": {
      "name": "python"
    }
  },
  "cells": [
    {
      "cell_type": "markdown",
      "metadata": {
        "id": "view-in-github",
        "colab_type": "text"
      },
      "source": [
        "<a href=\"https://colab.research.google.com/github/wsGit7/Invest/blob/main/urzMianUnikalUstaw.ipynb\" target=\"_parent\"><img src=\"https://colab.research.google.com/assets/colab-badge.svg\" alt=\"Open In Colab\"/></a>"
      ]
    },
    {
      "cell_type": "code",
      "source": [
        "! pip install PyPDF2"
      ],
      "metadata": {
        "colab": {
          "base_uri": "https://localhost:8080/"
        },
        "id": "C_ROHD7HC1h-",
        "outputId": "d4cf9f94-30ac-4e5f-c160-4516b8696deb"
      },
      "execution_count": 1,
      "outputs": [
        {
          "output_type": "stream",
          "name": "stdout",
          "text": [
            "Collecting PyPDF2\n",
            "  Downloading pypdf2-3.0.1-py3-none-any.whl.metadata (6.8 kB)\n",
            "Downloading pypdf2-3.0.1-py3-none-any.whl (232 kB)\n",
            "\u001b[?25l   \u001b[90m━━━━━━━━━━━━━━━━━━━━━━━━━━━━━━━━━━━━━━━━\u001b[0m \u001b[32m0.0/232.6 kB\u001b[0m \u001b[31m?\u001b[0m eta \u001b[36m-:--:--\u001b[0m\r\u001b[2K   \u001b[90m━━━━━━━━━━━━━━━━━━━━━━━━━━━━━━━━━━━━━━━━\u001b[0m \u001b[32m232.6/232.6 kB\u001b[0m \u001b[31m12.6 MB/s\u001b[0m eta \u001b[36m0:00:00\u001b[0m\n",
            "\u001b[?25hInstalling collected packages: PyPDF2\n",
            "Successfully installed PyPDF2-3.0.1\n"
          ]
        }
      ]
    },
    {
      "cell_type": "code",
      "execution_count": 3,
      "metadata": {
        "colab": {
          "base_uri": "https://localhost:8080/"
        },
        "id": "WYhtwkoOCpMQ",
        "outputId": "d0cf38ce-8993-4daa-e0fd-8341190aa5b9"
      },
      "outputs": [
        {
          "output_type": "stream",
          "name": "stdout",
          "text": [
            "Processing file: ustSluzCywTekstJed.pdf\n",
            "Processing file: ustawaNIK.pdf\n",
            "Processing file: ustawaRadzieMinist.pdf\n",
            "Processing file: konstytucja D19970483Lj.pdf\n",
            "Processing file: ustawaFinPub.pdf\n",
            "Processing file: D2024000040901.pdf\n",
            "Processing file: ustOdpZaNaruszDyscFinansPubli.pdf\n",
            "Processing file: kodeksPracy.pdf\n",
            "Processing file: D20231195.pdf\n",
            "Processing file: ustDoreczElektr.pdf\n",
            "Processing file: kodeksWyborczy.pdf\n",
            "Processing file: traktatUE.pdf\n",
            "Processing file: parlEuropRegul.pdf\n",
            "Processing file: ustawaRODO.pdf\n",
            "Processing file: kodeksPostAdm.pdf\n",
            "Processing file: traktFunkUe.pdf\n",
            "Processing file: prawoOswiatowe.pdf\n"
          ]
        }
      ],
      "source": [
        "import os\n",
        "import re\n",
        "import PyPDF2\n",
        "\n",
        "# Read the list of words from the enclosed document\n",
        "# Replace 'word_list.txt' with the actual path to your word list file\n",
        "with open('word_list.txt', 'r', encoding='utf-8') as f:\n",
        "    words = [line.strip() for line in f if line.strip()]\n",
        "\n",
        "# Prepare a regex pattern to match any of the words\n",
        "pattern = re.compile(r'\\b(' + '|'.join(re.escape(word) for word in words) + r')\\b', re.IGNORECASE)\n",
        "\n",
        "# Open the output file\n",
        "with open('joasia.txt', 'w', encoding='utf-8') as output_file:\n",
        "    # Iterate over all PDF files in the current directory\n",
        "    for filename in os.listdir('.'):\n",
        "        if filename.lower().endswith('.pdf'):\n",
        "            print(f'Processing file: {filename}')\n",
        "            # Read the PDF file\n",
        "            with open(filename, 'rb') as pdf_file:\n",
        "                reader = PyPDF2.PdfReader(pdf_file)\n",
        "                text = ''\n",
        "                # Extract text from each page\n",
        "                for page in reader.pages:\n",
        "                    text += page.extract_text()\n",
        "                # Split text into sentences\n",
        "                sentences = re.split(r'(?<=[.!?])\\s+', text)\n",
        "                # Find sentences containing the words\n",
        "                matching_sentences = [sentence for sentence in sentences if pattern.search(sentence)]\n",
        "                if matching_sentences:\n",
        "                    # Write to the output file\n",
        "                    output_file.write(f'File: {filename}\\n')\n",
        "                    for sentence in matching_sentences:\n",
        "                        output_file.write(sentence.strip() + '\\n')\n",
        "                    output_file.write('-' * 40 + '\\n')\n"
      ]
    },
    {
      "cell_type": "code",
      "source": [],
      "metadata": {
        "id": "PyilAMcLCzG0"
      },
      "execution_count": null,
      "outputs": []
    }
  ]
}