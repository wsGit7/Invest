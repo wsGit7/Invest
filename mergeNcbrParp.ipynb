{
  "nbformat": 4,
  "nbformat_minor": 0,
  "metadata": {
    "colab": {
      "provenance": [],
      "include_colab_link": true
    },
    "kernelspec": {
      "display_name": "Python 3",
      "language": "python",
      "name": "python3"
    },
    "language_info": {
      "codemirror_mode": {
        "name": "ipython",
        "version": 3
      },
      "file_extension": ".py",
      "mimetype": "text/x-python",
      "name": "python",
      "nbconvert_exporter": "python",
      "pygments_lexer": "ipython3",
      "version": "3.6.5"
    }
  },
  "cells": [
    {
      "cell_type": "markdown",
      "metadata": {
        "id": "view-in-github",
        "colab_type": "text"
      },
      "source": [
        "<a href=\"https://colab.research.google.com/github/wsGit7/Invest/blob/main/mergeNcbrParp.ipynb\" target=\"_parent\"><img src=\"https://colab.research.google.com/assets/colab-badge.svg\" alt=\"Open In Colab\"/></a>"
      ]
    },
    {
      "cell_type": "markdown",
      "metadata": {
        "id": "iox_ufgbqDXa"
      },
      "source": [
        "<h1><center>Introduction to Google Colab and PySpark</center></h1>"
      ]
    },
    {
      "cell_type": "code",
      "source": [],
      "metadata": {
        "id": "A7o--VZLZ98v"
      },
      "execution_count": null,
      "outputs": []
    },
    {
      "cell_type": "markdown",
      "source": [
        "DODAJE OBA PLIKI NA PODSTAWIE KOL 1"
      ],
      "metadata": {
        "id": "zd--4pIqIwrQ"
      }
    },
    {
      "cell_type": "markdown",
      "source": [
        "**MERGE FILES NCBR PARP - SUPER 080125**"
      ],
      "metadata": {
        "id": "tR2Yp3itD_vs"
      }
    },
    {
      "cell_type": "code",
      "source": [
        "import pandas as pd\n",
        "\n",
        "# Load the Excel files\n",
        "a_df = pd.read_excel('/content/ncbr.um.kis.kis.xlsx')\n",
        "b_df = pd.read_excel('/content/parp.um.kis.sum.324.xlsx')\n",
        "\n",
        "\n",
        "# Set the first column as the index for both dataframes\n",
        "a_df.set_index(a_df.columns[0], inplace=True)\n",
        "b_df.set_index(b_df.columns[0], inplace=True)\n",
        "\n",
        "# Create an empty dataframe for the result\n",
        "result_df = pd.DataFrame(index=a_df.index.union(b_df.index))\n",
        "\n",
        "# Iterate over all columns except the first\n",
        "for col_index in range(1, len(a_df.columns) + 1):\n",
        "    result_df[col_index] = a_df.iloc[:, col_index - 1].add(b_df.iloc[:, col_index - 1], fill_value=0)\n",
        "\n",
        "# Reset the index to bring back the first column\n",
        "result_df.reset_index(inplace=True)\n",
        "\n",
        "# Save the result to c.xlsx\n",
        "result_df.to_excel('c.xlsx', index=False)\n",
        "\n"
      ],
      "metadata": {
        "id": "IK8c2T-UEDYD"
      },
      "execution_count": 2,
      "outputs": []
    }
  ]
}