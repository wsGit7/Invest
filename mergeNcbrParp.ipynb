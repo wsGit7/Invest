{
  "nbformat": 4,
  "nbformat_minor": 0,
  "metadata": {
    "colab": {
      "provenance": [],
      "include_colab_link": true
    },
    "kernelspec": {
      "display_name": "Python 3",
      "language": "python",
      "name": "python3"
    },
    "language_info": {
      "codemirror_mode": {
        "name": "ipython",
        "version": 3
      },
      "file_extension": ".py",
      "mimetype": "text/x-python",
      "name": "python",
      "nbconvert_exporter": "python",
      "pygments_lexer": "ipython3",
      "version": "3.6.5"
    }
  },
  "cells": [
    {
      "cell_type": "markdown",
      "metadata": {
        "id": "view-in-github",
        "colab_type": "text"
      },
      "source": [
        "<a href=\"https://colab.research.google.com/github/wsGit7/Invest/blob/main/mergeNcbrParp.ipynb\" target=\"_parent\"><img src=\"https://colab.research.google.com/assets/colab-badge.svg\" alt=\"Open In Colab\"/></a>"
      ]
    },
    {
      "cell_type": "markdown",
      "metadata": {
        "id": "iox_ufgbqDXa"
      },
      "source": [
        "<h1><center>Introduction to Google Colab and PySpark</center></h1>"
      ]
    },
    {
      "cell_type": "code",
      "source": [],
      "metadata": {
        "id": "A7o--VZLZ98v"
      },
      "execution_count": null,
      "outputs": []
    },
    {
      "cell_type": "markdown",
      "source": [
        "DODAJE OBA PLIKI NA PODSTAWIE KOL 1"
      ],
      "metadata": {
        "id": "zd--4pIqIwrQ"
      }
    },
    {
      "cell_type": "markdown",
      "source": [
        "**MERGE FILES NCBR PARP - SUPER 080125**"
      ],
      "metadata": {
        "id": "tR2Yp3itD_vs"
      }
    },
    {
      "cell_type": "code",
      "source": [
        "import pandas as pd\n",
        "# super 080125 for 1 matching column\n",
        "# Load the Excel files\n",
        "# umowy kisy czyli 1\n",
        "a_df = pd.read_excel('/content/ncbr.wn.podkis.op.324 (6).xlsx')\n",
        "b_df = pd.read_excel('/content/parp.wn.obszar.op.324.xlsx')\n",
        "\n",
        "\n",
        "# Set the first column as the index for both dataframes\n",
        "a_df.set_index(a_df.columns[0], inplace=True)\n",
        "b_df.set_index(b_df.columns[0], inplace=True)\n",
        "\n",
        "# Create an empty dataframe for the result\n",
        "result_df = pd.DataFrame(index=a_df.index.union(b_df.index))\n",
        "\n",
        "# Iterate over all columns except the first\n",
        "for col_index in range(1, len(a_df.columns) + 1):\n",
        "    result_df[col_index] = a_df.iloc[:, col_index - 1].add(b_df.iloc[:, col_index - 1], fill_value=0)\n",
        "\n",
        "# Reset the index to bring back the first column\n",
        "result_df.reset_index(inplace=True)\n",
        "\n",
        "# Save the result to c.xlsx\n",
        "result_df.to_excel('wn.obszar.agg.324.xlsx', index=False)\n",
        "\n"
      ],
      "metadata": {
        "id": "IK8c2T-UEDYD",
        "outputId": "edc6ca0b-bed3-4664-af32-d2e0fada28ff",
        "colab": {
          "base_uri": "https://localhost:8080/",
          "height": 356
        }
      },
      "execution_count": 3,
      "outputs": [
        {
          "output_type": "error",
          "ename": "TypeError",
          "evalue": "unsupported operand type(s) for +: 'int' and 'str'",
          "traceback": [
            "\u001b[0;31m---------------------------------------------------------------------------\u001b[0m",
            "\u001b[0;31mTypeError\u001b[0m                                 Traceback (most recent call last)",
            "\u001b[0;32m<ipython-input-3-8c3e4a85f6e1>\u001b[0m in \u001b[0;36m<cell line: 17>\u001b[0;34m()\u001b[0m\n\u001b[1;32m     16\u001b[0m \u001b[0;31m# Iterate over all columns except the first\u001b[0m\u001b[0;34m\u001b[0m\u001b[0;34m\u001b[0m\u001b[0m\n\u001b[1;32m     17\u001b[0m \u001b[0;32mfor\u001b[0m \u001b[0mcol_index\u001b[0m \u001b[0;32min\u001b[0m \u001b[0mrange\u001b[0m\u001b[0;34m(\u001b[0m\u001b[0;36m1\u001b[0m\u001b[0;34m,\u001b[0m \u001b[0mlen\u001b[0m\u001b[0;34m(\u001b[0m\u001b[0ma_df\u001b[0m\u001b[0;34m.\u001b[0m\u001b[0mcolumns\u001b[0m\u001b[0;34m)\u001b[0m \u001b[0;34m+\u001b[0m \u001b[0;36m1\u001b[0m\u001b[0;34m)\u001b[0m\u001b[0;34m:\u001b[0m\u001b[0;34m\u001b[0m\u001b[0;34m\u001b[0m\u001b[0m\n\u001b[0;32m---> 18\u001b[0;31m     \u001b[0mresult_df\u001b[0m\u001b[0;34m[\u001b[0m\u001b[0mcol_index\u001b[0m\u001b[0;34m]\u001b[0m \u001b[0;34m=\u001b[0m \u001b[0ma_df\u001b[0m\u001b[0;34m.\u001b[0m\u001b[0miloc\u001b[0m\u001b[0;34m[\u001b[0m\u001b[0;34m:\u001b[0m\u001b[0;34m,\u001b[0m \u001b[0mcol_index\u001b[0m \u001b[0;34m-\u001b[0m \u001b[0;36m1\u001b[0m\u001b[0;34m]\u001b[0m\u001b[0;34m.\u001b[0m\u001b[0madd\u001b[0m\u001b[0;34m(\u001b[0m\u001b[0mb_df\u001b[0m\u001b[0;34m.\u001b[0m\u001b[0miloc\u001b[0m\u001b[0;34m[\u001b[0m\u001b[0;34m:\u001b[0m\u001b[0;34m,\u001b[0m \u001b[0mcol_index\u001b[0m \u001b[0;34m-\u001b[0m \u001b[0;36m1\u001b[0m\u001b[0;34m]\u001b[0m\u001b[0;34m,\u001b[0m \u001b[0mfill_value\u001b[0m\u001b[0;34m=\u001b[0m\u001b[0;36m0\u001b[0m\u001b[0;34m)\u001b[0m\u001b[0;34m\u001b[0m\u001b[0;34m\u001b[0m\u001b[0m\n\u001b[0m\u001b[1;32m     19\u001b[0m \u001b[0;34m\u001b[0m\u001b[0m\n\u001b[1;32m     20\u001b[0m \u001b[0;31m# Reset the index to bring back the first column\u001b[0m\u001b[0;34m\u001b[0m\u001b[0;34m\u001b[0m\u001b[0m\n",
            "\u001b[0;32m/usr/local/lib/python3.10/dist-packages/pandas/core/series.py\u001b[0m in \u001b[0;36madd\u001b[0;34m(self, other, level, fill_value, axis)\u001b[0m\n\u001b[1;32m   6304\u001b[0m     \u001b[0;34m@\u001b[0m\u001b[0mAppender\u001b[0m\u001b[0;34m(\u001b[0m\u001b[0mops\u001b[0m\u001b[0;34m.\u001b[0m\u001b[0mmake_flex_doc\u001b[0m\u001b[0;34m(\u001b[0m\u001b[0;34m\"add\"\u001b[0m\u001b[0;34m,\u001b[0m \u001b[0;34m\"series\"\u001b[0m\u001b[0;34m)\u001b[0m\u001b[0;34m)\u001b[0m\u001b[0;34m\u001b[0m\u001b[0;34m\u001b[0m\u001b[0m\n\u001b[1;32m   6305\u001b[0m     \u001b[0;32mdef\u001b[0m \u001b[0madd\u001b[0m\u001b[0;34m(\u001b[0m\u001b[0mself\u001b[0m\u001b[0;34m,\u001b[0m \u001b[0mother\u001b[0m\u001b[0;34m,\u001b[0m \u001b[0mlevel\u001b[0m\u001b[0;34m=\u001b[0m\u001b[0;32mNone\u001b[0m\u001b[0;34m,\u001b[0m \u001b[0mfill_value\u001b[0m\u001b[0;34m=\u001b[0m\u001b[0;32mNone\u001b[0m\u001b[0;34m,\u001b[0m \u001b[0maxis\u001b[0m\u001b[0;34m:\u001b[0m \u001b[0mAxis\u001b[0m \u001b[0;34m=\u001b[0m \u001b[0;36m0\u001b[0m\u001b[0;34m)\u001b[0m \u001b[0;34m->\u001b[0m \u001b[0mSeries\u001b[0m\u001b[0;34m:\u001b[0m\u001b[0;34m\u001b[0m\u001b[0;34m\u001b[0m\u001b[0m\n\u001b[0;32m-> 6306\u001b[0;31m         return self._flex_method(\n\u001b[0m\u001b[1;32m   6307\u001b[0m             \u001b[0mother\u001b[0m\u001b[0;34m,\u001b[0m \u001b[0moperator\u001b[0m\u001b[0;34m.\u001b[0m\u001b[0madd\u001b[0m\u001b[0;34m,\u001b[0m \u001b[0mlevel\u001b[0m\u001b[0;34m=\u001b[0m\u001b[0mlevel\u001b[0m\u001b[0;34m,\u001b[0m \u001b[0mfill_value\u001b[0m\u001b[0;34m=\u001b[0m\u001b[0mfill_value\u001b[0m\u001b[0;34m,\u001b[0m \u001b[0maxis\u001b[0m\u001b[0;34m=\u001b[0m\u001b[0maxis\u001b[0m\u001b[0;34m\u001b[0m\u001b[0;34m\u001b[0m\u001b[0m\n\u001b[1;32m   6308\u001b[0m         )\n",
            "\u001b[0;32m/usr/local/lib/python3.10/dist-packages/pandas/core/series.py\u001b[0m in \u001b[0;36m_flex_method\u001b[0;34m(self, other, op, level, fill_value, axis)\u001b[0m\n\u001b[1;32m   6244\u001b[0m \u001b[0;34m\u001b[0m\u001b[0m\n\u001b[1;32m   6245\u001b[0m         \u001b[0;32mif\u001b[0m \u001b[0misinstance\u001b[0m\u001b[0;34m(\u001b[0m\u001b[0mother\u001b[0m\u001b[0;34m,\u001b[0m \u001b[0mSeries\u001b[0m\u001b[0;34m)\u001b[0m\u001b[0;34m:\u001b[0m\u001b[0;34m\u001b[0m\u001b[0;34m\u001b[0m\u001b[0m\n\u001b[0;32m-> 6246\u001b[0;31m             \u001b[0;32mreturn\u001b[0m \u001b[0mself\u001b[0m\u001b[0;34m.\u001b[0m\u001b[0m_binop\u001b[0m\u001b[0;34m(\u001b[0m\u001b[0mother\u001b[0m\u001b[0;34m,\u001b[0m \u001b[0mop\u001b[0m\u001b[0;34m,\u001b[0m \u001b[0mlevel\u001b[0m\u001b[0;34m=\u001b[0m\u001b[0mlevel\u001b[0m\u001b[0;34m,\u001b[0m \u001b[0mfill_value\u001b[0m\u001b[0;34m=\u001b[0m\u001b[0mfill_value\u001b[0m\u001b[0;34m)\u001b[0m\u001b[0;34m\u001b[0m\u001b[0;34m\u001b[0m\u001b[0m\n\u001b[0m\u001b[1;32m   6247\u001b[0m         \u001b[0;32melif\u001b[0m \u001b[0misinstance\u001b[0m\u001b[0;34m(\u001b[0m\u001b[0mother\u001b[0m\u001b[0;34m,\u001b[0m \u001b[0;34m(\u001b[0m\u001b[0mnp\u001b[0m\u001b[0;34m.\u001b[0m\u001b[0mndarray\u001b[0m\u001b[0;34m,\u001b[0m \u001b[0mlist\u001b[0m\u001b[0;34m,\u001b[0m \u001b[0mtuple\u001b[0m\u001b[0;34m)\u001b[0m\u001b[0;34m)\u001b[0m\u001b[0;34m:\u001b[0m\u001b[0;34m\u001b[0m\u001b[0;34m\u001b[0m\u001b[0m\n\u001b[1;32m   6248\u001b[0m             \u001b[0;32mif\u001b[0m \u001b[0mlen\u001b[0m\u001b[0;34m(\u001b[0m\u001b[0mother\u001b[0m\u001b[0;34m)\u001b[0m \u001b[0;34m!=\u001b[0m \u001b[0mlen\u001b[0m\u001b[0;34m(\u001b[0m\u001b[0mself\u001b[0m\u001b[0;34m)\u001b[0m\u001b[0;34m:\u001b[0m\u001b[0;34m\u001b[0m\u001b[0;34m\u001b[0m\u001b[0m\n",
            "\u001b[0;32m/usr/local/lib/python3.10/dist-packages/pandas/core/series.py\u001b[0m in \u001b[0;36m_binop\u001b[0;34m(self, other, func, level, fill_value)\u001b[0m\n\u001b[1;32m   6193\u001b[0m \u001b[0;34m\u001b[0m\u001b[0m\n\u001b[1;32m   6194\u001b[0m         \u001b[0;32mwith\u001b[0m \u001b[0mnp\u001b[0m\u001b[0;34m.\u001b[0m\u001b[0merrstate\u001b[0m\u001b[0;34m(\u001b[0m\u001b[0mall\u001b[0m\u001b[0;34m=\u001b[0m\u001b[0;34m\"ignore\"\u001b[0m\u001b[0;34m)\u001b[0m\u001b[0;34m:\u001b[0m\u001b[0;34m\u001b[0m\u001b[0;34m\u001b[0m\u001b[0m\n\u001b[0;32m-> 6195\u001b[0;31m             \u001b[0mresult\u001b[0m \u001b[0;34m=\u001b[0m \u001b[0mfunc\u001b[0m\u001b[0;34m(\u001b[0m\u001b[0mthis_vals\u001b[0m\u001b[0;34m,\u001b[0m \u001b[0mother_vals\u001b[0m\u001b[0;34m)\u001b[0m\u001b[0;34m\u001b[0m\u001b[0;34m\u001b[0m\u001b[0m\n\u001b[0m\u001b[1;32m   6196\u001b[0m \u001b[0;34m\u001b[0m\u001b[0m\n\u001b[1;32m   6197\u001b[0m         \u001b[0mname\u001b[0m \u001b[0;34m=\u001b[0m \u001b[0mops\u001b[0m\u001b[0;34m.\u001b[0m\u001b[0mget_op_result_name\u001b[0m\u001b[0;34m(\u001b[0m\u001b[0mself\u001b[0m\u001b[0;34m,\u001b[0m \u001b[0mother\u001b[0m\u001b[0;34m)\u001b[0m\u001b[0;34m\u001b[0m\u001b[0;34m\u001b[0m\u001b[0m\n",
            "\u001b[0;31mTypeError\u001b[0m: unsupported operand type(s) for +: 'int' and 'str'"
          ]
        }
      ]
    },
    {
      "cell_type": "code",
      "source": [
        "import pandas as pd\n",
        "\n",
        "# for 1 cryterium z roznymi typami w kolumnach - rozwiazanie prob z powyzej\n",
        "# Load the Excel files\n",
        "a_df = pd.read_excel('/content/ncbr.wn.podkis.op.324 (6).xlsx')\n",
        "b_df = pd.read_excel('/content/parp.wn.obszar.op.324.xlsx')\n",
        "\n",
        "# Set the first column as the index for both dataframes\n",
        "a_df.set_index(a_df.columns[0], inplace=True)\n",
        "b_df.set_index(b_df.columns[0], inplace=True)\n",
        "\n",
        "# Ensure all columns to be added are numeric\n",
        "a_df = a_df.apply(pd.to_numeric, errors='coerce')\n",
        "b_df = b_df.apply(pd.to_numeric, errors='coerce')\n",
        "\n",
        "# Create an empty dataframe for the result\n",
        "result_df = pd.DataFrame(index=a_df.index.union(b_df.index))\n",
        "\n",
        "# Iterate over all columns except the first\n",
        "for col_index in range(len(a_df.columns)):\n",
        "    result_df[a_df.columns[col_index]] = a_df.iloc[:, col_index].add(b_df.iloc[:, col_index], fill_value=0)\n",
        "\n",
        "# Reset the index to bring back the first column\n",
        "result_df.reset_index(inplace=True)\n",
        "\n",
        "# Save the result to 'wn.obszar.agg.324.xlsx'\n",
        "result_df.to_excel('wn.obszar.agg.324.xlsx', index=False)\n"
      ],
      "metadata": {
        "id": "sCa3SoAVQL2C"
      },
      "execution_count": 4,
      "outputs": []
    },
    {
      "cell_type": "code",
      "source": [
        "import pandas as pd\n",
        "# super 080125 for 2 matching columns\n",
        "#\n",
        "# Match column 1 and 2 tj. region and kis\n",
        "# Load the Excel files\n",
        "a_df = pd.read_excel('/content/parp.wn.obsz.woj3.324.xlsx')\n",
        "b_df = pd.read_excel('/content/ncbr.wn.podkis.woj.op.324.xlsx')\n",
        "\n",
        "\n",
        "# Set the first two columns as the index for both dataframes\n",
        "a_df.set_index([a_df.columns[0], a_df.columns[1]], inplace=True)\n",
        "b_df.set_index([b_df.columns[0], b_df.columns[1]], inplace=True)\n",
        "\n",
        "# Combine the two dataframes to ensure all indices are present\n",
        "combined_index = a_df.index.union(b_df.index)\n",
        "\n",
        "# Reindex both dataframes to the combined index\n",
        "a_df = a_df.reindex(combined_index, fill_value=0)\n",
        "b_df = b_df.reindex(combined_index, fill_value=0)\n",
        "\n",
        "# Create an empty dataframe for the result with the combined index\n",
        "result_df = pd.DataFrame(index=combined_index)\n",
        "\n",
        "# Sum the values for columns 3, 4, and 5 based on the matching index\n",
        "for col_index in range(2, 5):\n",
        "    result_df[a_df.columns[col_index - 2]] = a_df.iloc[:, col_index - 2].add(b_df.iloc[:, col_index - 2], fill_value=0)\n",
        "\n",
        "# Reset the index to bring back the first two columns\n",
        "result_df.reset_index(inplace=True)\n",
        "\n",
        "# Save the result to lulu.xlsx\n",
        "result_df.to_excel('wn.obszar.woj.324.agg.xlsx', index=False)\n",
        "\n"
      ],
      "metadata": {
        "colab": {
          "base_uri": "https://localhost:8080/",
          "height": 356
        },
        "id": "hTD3vO4LcRSI",
        "outputId": "9e786cd3-42a0-458c-f628-74583ee67606"
      },
      "execution_count": 10,
      "outputs": [
        {
          "output_type": "error",
          "ename": "ValueError",
          "evalue": "cannot handle a non-unique multi-index!",
          "traceback": [
            "\u001b[0;31m---------------------------------------------------------------------------\u001b[0m",
            "\u001b[0;31mValueError\u001b[0m                                Traceback (most recent call last)",
            "\u001b[0;32m<ipython-input-10-fad3d182d759>\u001b[0m in \u001b[0;36m<cell line: 18>\u001b[0;34m()\u001b[0m\n\u001b[1;32m     16\u001b[0m \u001b[0;34m\u001b[0m\u001b[0m\n\u001b[1;32m     17\u001b[0m \u001b[0;31m# Reindex both dataframes to the combined index\u001b[0m\u001b[0;34m\u001b[0m\u001b[0;34m\u001b[0m\u001b[0m\n\u001b[0;32m---> 18\u001b[0;31m \u001b[0ma_df\u001b[0m \u001b[0;34m=\u001b[0m \u001b[0ma_df\u001b[0m\u001b[0;34m.\u001b[0m\u001b[0mreindex\u001b[0m\u001b[0;34m(\u001b[0m\u001b[0mcombined_index\u001b[0m\u001b[0;34m,\u001b[0m \u001b[0mfill_value\u001b[0m\u001b[0;34m=\u001b[0m\u001b[0;36m0\u001b[0m\u001b[0;34m)\u001b[0m\u001b[0;34m\u001b[0m\u001b[0;34m\u001b[0m\u001b[0m\n\u001b[0m\u001b[1;32m     19\u001b[0m \u001b[0mb_df\u001b[0m \u001b[0;34m=\u001b[0m \u001b[0mb_df\u001b[0m\u001b[0;34m.\u001b[0m\u001b[0mreindex\u001b[0m\u001b[0;34m(\u001b[0m\u001b[0mcombined_index\u001b[0m\u001b[0;34m,\u001b[0m \u001b[0mfill_value\u001b[0m\u001b[0;34m=\u001b[0m\u001b[0;36m0\u001b[0m\u001b[0;34m)\u001b[0m\u001b[0;34m\u001b[0m\u001b[0;34m\u001b[0m\u001b[0m\n\u001b[1;32m     20\u001b[0m \u001b[0;34m\u001b[0m\u001b[0m\n",
            "\u001b[0;32m/usr/local/lib/python3.10/dist-packages/pandas/core/frame.py\u001b[0m in \u001b[0;36mreindex\u001b[0;34m(self, labels, index, columns, axis, method, copy, level, fill_value, limit, tolerance)\u001b[0m\n\u001b[1;32m   5376\u001b[0m         \u001b[0mtolerance\u001b[0m\u001b[0;34m=\u001b[0m\u001b[0;32mNone\u001b[0m\u001b[0;34m,\u001b[0m\u001b[0;34m\u001b[0m\u001b[0;34m\u001b[0m\u001b[0m\n\u001b[1;32m   5377\u001b[0m     ) -> DataFrame:\n\u001b[0;32m-> 5378\u001b[0;31m         return super().reindex(\n\u001b[0m\u001b[1;32m   5379\u001b[0m             \u001b[0mlabels\u001b[0m\u001b[0;34m=\u001b[0m\u001b[0mlabels\u001b[0m\u001b[0;34m,\u001b[0m\u001b[0;34m\u001b[0m\u001b[0;34m\u001b[0m\u001b[0m\n\u001b[1;32m   5380\u001b[0m             \u001b[0mindex\u001b[0m\u001b[0;34m=\u001b[0m\u001b[0mindex\u001b[0m\u001b[0;34m,\u001b[0m\u001b[0;34m\u001b[0m\u001b[0;34m\u001b[0m\u001b[0m\n",
            "\u001b[0;32m/usr/local/lib/python3.10/dist-packages/pandas/core/generic.py\u001b[0m in \u001b[0;36mreindex\u001b[0;34m(self, labels, index, columns, axis, method, copy, level, fill_value, limit, tolerance)\u001b[0m\n\u001b[1;32m   5608\u001b[0m \u001b[0;34m\u001b[0m\u001b[0m\n\u001b[1;32m   5609\u001b[0m         \u001b[0;31m# perform the reindex on the axes\u001b[0m\u001b[0;34m\u001b[0m\u001b[0;34m\u001b[0m\u001b[0m\n\u001b[0;32m-> 5610\u001b[0;31m         return self._reindex_axes(\n\u001b[0m\u001b[1;32m   5611\u001b[0m             \u001b[0maxes\u001b[0m\u001b[0;34m,\u001b[0m \u001b[0mlevel\u001b[0m\u001b[0;34m,\u001b[0m \u001b[0mlimit\u001b[0m\u001b[0;34m,\u001b[0m \u001b[0mtolerance\u001b[0m\u001b[0;34m,\u001b[0m \u001b[0mmethod\u001b[0m\u001b[0;34m,\u001b[0m \u001b[0mfill_value\u001b[0m\u001b[0;34m,\u001b[0m \u001b[0mcopy\u001b[0m\u001b[0;34m\u001b[0m\u001b[0;34m\u001b[0m\u001b[0m\n\u001b[1;32m   5612\u001b[0m         ).__finalize__(self, method=\"reindex\")\n",
            "\u001b[0;32m/usr/local/lib/python3.10/dist-packages/pandas/core/generic.py\u001b[0m in \u001b[0;36m_reindex_axes\u001b[0;34m(self, axes, level, limit, tolerance, method, fill_value, copy)\u001b[0m\n\u001b[1;32m   5631\u001b[0m \u001b[0;34m\u001b[0m\u001b[0m\n\u001b[1;32m   5632\u001b[0m             \u001b[0max\u001b[0m \u001b[0;34m=\u001b[0m \u001b[0mself\u001b[0m\u001b[0;34m.\u001b[0m\u001b[0m_get_axis\u001b[0m\u001b[0;34m(\u001b[0m\u001b[0ma\u001b[0m\u001b[0;34m)\u001b[0m\u001b[0;34m\u001b[0m\u001b[0;34m\u001b[0m\u001b[0m\n\u001b[0;32m-> 5633\u001b[0;31m             new_index, indexer = ax.reindex(\n\u001b[0m\u001b[1;32m   5634\u001b[0m                 \u001b[0mlabels\u001b[0m\u001b[0;34m,\u001b[0m \u001b[0mlevel\u001b[0m\u001b[0;34m=\u001b[0m\u001b[0mlevel\u001b[0m\u001b[0;34m,\u001b[0m \u001b[0mlimit\u001b[0m\u001b[0;34m=\u001b[0m\u001b[0mlimit\u001b[0m\u001b[0;34m,\u001b[0m \u001b[0mtolerance\u001b[0m\u001b[0;34m=\u001b[0m\u001b[0mtolerance\u001b[0m\u001b[0;34m,\u001b[0m \u001b[0mmethod\u001b[0m\u001b[0;34m=\u001b[0m\u001b[0mmethod\u001b[0m\u001b[0;34m\u001b[0m\u001b[0;34m\u001b[0m\u001b[0m\n\u001b[1;32m   5635\u001b[0m             )\n",
            "\u001b[0;32m/usr/local/lib/python3.10/dist-packages/pandas/core/indexes/base.py\u001b[0m in \u001b[0;36mreindex\u001b[0;34m(self, target, method, level, limit, tolerance)\u001b[0m\n\u001b[1;32m   4424\u001b[0m                     )\n\u001b[1;32m   4425\u001b[0m                 \u001b[0;32melif\u001b[0m \u001b[0mself\u001b[0m\u001b[0;34m.\u001b[0m\u001b[0m_is_multi\u001b[0m\u001b[0;34m:\u001b[0m\u001b[0;34m\u001b[0m\u001b[0;34m\u001b[0m\u001b[0m\n\u001b[0;32m-> 4426\u001b[0;31m                     \u001b[0;32mraise\u001b[0m \u001b[0mValueError\u001b[0m\u001b[0;34m(\u001b[0m\u001b[0;34m\"cannot handle a non-unique multi-index!\"\u001b[0m\u001b[0;34m)\u001b[0m\u001b[0;34m\u001b[0m\u001b[0;34m\u001b[0m\u001b[0m\n\u001b[0m\u001b[1;32m   4427\u001b[0m                 \u001b[0;32melif\u001b[0m \u001b[0;32mnot\u001b[0m \u001b[0mself\u001b[0m\u001b[0;34m.\u001b[0m\u001b[0mis_unique\u001b[0m\u001b[0;34m:\u001b[0m\u001b[0;34m\u001b[0m\u001b[0;34m\u001b[0m\u001b[0m\n\u001b[1;32m   4428\u001b[0m                     \u001b[0;31m# GH#42568\u001b[0m\u001b[0;34m\u001b[0m\u001b[0;34m\u001b[0m\u001b[0m\n",
            "\u001b[0;31mValueError\u001b[0m: cannot handle a non-unique multi-index!"
          ]
        }
      ]
    },
    {
      "cell_type": "code",
      "source": [
        "import pandas as pd\n",
        "#poprawnione dla 2 argumentow\n",
        "# Load the Excel files\n",
        "a_df = pd.read_excel('/content/parp.wn.obsz.woj3.324.xlsx')\n",
        "b_df = pd.read_excel('/content/ncbr.wn.podkis.woj.op.324.xlsx')\n",
        "\n",
        "# Set the first two columns as the index for both dataframes\n",
        "a_df.set_index([a_df.columns[0], a_df.columns[1]], inplace=True)\n",
        "b_df.set_index([b_df.columns[0], b_df.columns[1]], inplace=True)\n",
        "\n",
        "# Sum duplicate rows to ensure unique multi-index\n",
        "a_df = a_df.groupby(level=[0, 1]).sum()\n",
        "b_df = b_df.groupby(level=[0, 1]).sum()\n",
        "\n",
        "# Combine the two dataframes to ensure all indices are present\n",
        "combined_index = a_df.index.union(b_df.index)\n",
        "\n",
        "# Reindex both dataframes to the combined index\n",
        "a_df = a_df.reindex(combined_index, fill_value=0)\n",
        "b_df = b_df.reindex(combined_index, fill_value=0)\n",
        "\n",
        "# Convert all columns to numeric, coerce non-numeric values to NaN\n",
        "a_df = a_df.apply(pd.to_numeric, errors='coerce')\n",
        "b_df = b_df.apply(pd.to_numeric, errors='coerce')\n",
        "\n",
        "# Create an empty dataframe for the result with the combined index\n",
        "result_df = pd.DataFrame(index=combined_index)\n",
        "\n",
        "# Sum the values for all columns based on the matching index\n",
        "for col_index in range(len(a_df.columns)):\n",
        "    result_df[a_df.columns[col_index]] = a_df.iloc[:, col_index].add(b_df.iloc[:, col_index], fill_value=0)\n",
        "\n",
        "# Reset the index to bring back the first two columns\n",
        "result_df.reset_index(inplace=True)\n",
        "\n",
        "# Save the result to 'wn.obszar.woj.324.agg.xlsx'\n",
        "result_df.to_excel('wn.obszar.woj.324.agg.xlsx', index=False)\n"
      ],
      "metadata": {
        "id": "aVVYUVzTYo7a"
      },
      "execution_count": 11,
      "outputs": []
    },
    {
      "cell_type": "code",
      "source": [
        "import pandas as pd\n",
        "\n",
        "# Load the Excel files\n",
        "a_df = pd.read_excel('/content/ncbr.um.podkis.op.324.xlsx')\n",
        "b_df = pd.read_excel('/content/parp.um.obszar.op.324.xlsx')\n",
        "\n",
        "# Set the first column as the index for both dataframes\n",
        "a_df.set_index(a_df.columns[0], inplace=True)\n",
        "b_df.set_index(b_df.columns[0], inplace=True)\n",
        "\n",
        "# Ensure all columns to be added are numeric\n",
        "a_df = a_df.apply(pd.to_numeric, errors='coerce')\n",
        "b_df = b_df.apply(pd.to_numeric, errors='coerce')\n",
        "\n",
        "# Create an empty dataframe for the result\n",
        "result_df = pd.DataFrame(index=a_df.index.union(b_df.index))\n",
        "\n",
        "# Iterate over all columns except the first\n",
        "for col_index in range(len(a_df.columns)):\n",
        "    result_df[a_df.columns[col_index]] = a_df.iloc[:, col_index].add(b_df.iloc[:, col_index], fill_value=0)\n",
        "\n",
        "# Reset the index to bring back the first column\n",
        "result_df.reset_index(inplace=True)\n",
        "\n",
        "# Save the result to 'um.obsz.agg.324.xlsx'\n",
        "result_df.to_excel('um.obsz.agg.324.xlsx', index=False)\n"
      ],
      "metadata": {
        "id": "xxI6DwpA22AR"
      },
      "execution_count": 6,
      "outputs": []
    },
    {
      "cell_type": "code",
      "source": [],
      "metadata": {
        "id": "W2C3D1LM55d0"
      },
      "execution_count": null,
      "outputs": []
    },
    {
      "cell_type": "code",
      "source": [
        "import pandas as pd\n",
        "\n",
        "# Load the Excel file and the second Excel file\n",
        "file_path_excel = '/content/um.obsz.agg.324.xlsx'\n",
        "file_path_kisy = 'kisyOpis.xlsx'\n",
        "\n",
        "df_excel = pd.read_excel(file_path_excel)\n",
        "df_kisy = pd.read_excel(file_path_kisy)\n",
        "\n",
        "# Check if the second Excel file has enough columns\n",
        "if len(df_kisy.columns) < 2:\n",
        "    print(\"The second Excel file does not have enough columns.\")\n",
        "else:\n",
        "    # Ensure the column 5 in the first Excel file is available\n",
        "    # Adding a new column for mapped values if it doesn't exist\n",
        "    if len(df_excel.columns) < 5:\n",
        "        df_excel['Mapped Column'] = pd.Series([None] * len(df_excel), dtype='object')\n",
        "    else:\n",
        "        df_excel.iloc[:, 4] = pd.Series([None] * len(df_excel), dtype='object')  # Clear existing column 5 if it exists\n",
        "\n",
        "    # Create a dictionary from the second Excel file for mapping\n",
        "    mapping_dict = pd.Series(df_kisy.iloc[:, 1].values, index=df_kisy.iloc[:, 0]).to_dict()\n",
        "\n",
        "    # Debug: Print the mapping dictionary\n",
        "    print(\"Mapping dictionary:\", mapping_dict)\n",
        "\n",
        "    # Iterate through rows in used range in column 1 of both files and compare values\n",
        "    for i in range(df_excel.shape[0]):\n",
        "        excel_value = df_excel.iloc[i, 0]  # Column 1 in the first Excel file\n",
        "        # Debug: Print the value being checked\n",
        "        print(f\"Checking Excel value: {excel_value}\")\n",
        "        if excel_value in mapping_dict:\n",
        "            df_excel.iloc[i, 4] = mapping_dict[excel_value]  # Add corresponding value from the second Excel file's column 2 to the first Excel file's column 5\n",
        "            # Debug: Print the mapped value\n",
        "            print(f\"Mapped {excel_value} to {mapping_dict[excel_value]} in row {i}\")\n",
        "\n",
        "    # Save the result to a new Excel file\n",
        "    output_file_path = 'um.obsz.agg.op.324.xlsx'\n",
        "    df_excel.to_excel(output_file_path, index=False)\n",
        "\n",
        "    print(f'Result saved to {output_file_path}')\n"
      ],
      "metadata": {
        "colab": {
          "base_uri": "https://localhost:8080/"
        },
        "outputId": "d780917d-89d2-4cde-9fa3-3f11a8f3d41e",
        "id": "D1mPMyPbUPrW"
      },
      "execution_count": 7,
      "outputs": [
        {
          "output_type": "stream",
          "name": "stdout",
          "text": [
            "Mapping dictionary: {'KIS 1.': 'ZDROWE SPOŁECZEŃSTWO', '1.I.': 'BADANIA I ROZWÓJ PRODUKTÓW LECZNICZYCH', '1.II.': 'PRODUKTY LECZNICZE TERAPII ZAAWANSOWANYCH (ATMP) ORAZ BIOLOGICZNE', '1.III.': 'BADANIA I ROZWÓJ INNOWACYJNYCH SUPLEMENTÓW DIETY I ŚRODKÓW SPOŻYWCZYCH SPECJALNEGO PRZEZNACZENIA ŻYWIENIOWEGO', '1.IV.': 'URZĄDZENIA I WYROBY MEDYCZNE', '1.V.': 'TECHNOLOGIE MEDYCZNE', '1.VI.': 'INFORMATYCZNE NARZĘDZIA MEDYCZNE', '1.VII.': 'DIAGNOSTYKA OBRAZOWA ORAZ OPARTA NA INNYCH TECHNIKACH DETEKCJI', '1.VIII.': 'MARKERY/TESTY', '1.IX.': 'TELEMEDYCYNA', '1.X.': 'KOORDYNOWANA OPIEKA ZDROWOTNA', '1.XI.': 'NOWE CELE PREWENCYJNE I/LUB TERAPEUTYCZNE', '1.XII.': 'BADANIA KLINICZNE', '1.XIII.': 'PRODUKTY LECZNICZE BIOLOGICZNE BIOLOGICZNIE RÓWNOWAŻNE DAWNIEJ BIOPODOBNE INNOWACYJNE GENERYCZNE ORAZ WYROBY MEDYCZNE ORAZ SUPLEMENTY DIETY I ŚRODKI SPOŻYWCZE SPECJALNEGO PRZEZNACZENIA ŻYWIENIOWEGO', '1.XIV.': 'SUBSTANCJE CZYNNE (AKTYWNE) PRODUKTÓW LECZNICZYCH (API)', '1.XV.': 'DERMATOLOGICZNE I KOSMETYCZNE PRODUKTY LECZNICZE DO STOSOWANIA ZEWNĘTRZNEGO;', '1.XVI.': 'PRODUKTY LECZNICZE POCHODZENIA NATURALNEGO', 'KIS 2.': 'NOWOCZESNE ROLNICTWO LEŚNICTWO I ŻYWNOŚĆ', '2.I.': 'ELEMENTY WSPÓLNE DLA INNOWACJI SEKTORA ROLNO-SPOŻYWCZEGO I LEŚNO-DRZEWNEGO', '2.II.': 'GLEBA I UŻYTKI ROLNE', '2.III.': 'POSTĘP BIOLOGICZNY W PRODUKCJI ROŚLINNEJ I ZWIERZĘCEJ', '2.IV.': 'TECHNOLOGIA PRODUKCJI ROŚLINNEJ I ZWIERZĘCEJ', '2.V.': 'MASZYNY I URZĄDZENIA ROLNICZE', '2.VI.': 'NAWOZY ORGANICZNE I MINERALNE ŚRODKI OCHRONY ROŚLIN I REGULATORY WZROSTU', '2.VII.': 'PRODUKCJA MAGAZYNOWANIE PRZECHOWALNICTWO', '2.VIII.': 'PRZETWÓRSTWO PŁODÓW ROLNYCH I PRODUKTÓW ZWIERZĘCYCH', '2.IX.': 'INNOWACYJNE METODY POZWALAJĄCE NA POPRAWĘ DOBROSTANU I OCHRONĘ ZDROWIA ZWIERZĄT', '2.X.': 'ŻYWNOŚĆ A KONSUMENT', '2.XI.': 'NOWOCZESNE LEŚNICTWO', '2.XII.': 'INNOWACYJNE PRODUKTY DRZEWNE I DREWNOPOCHODNE', '2.XIII.': 'INDYWIDUALIZACJA PRODUKCJI MEBLARSKIEJ', '2.XIV.': 'INNOWACYJNE PROCESY I PRODUKTY W PRZEMYŚLE CELULOZOWO-PAPIERNICZYM I OPAKOWANIOWYM', 'KIS 3.': 'ZRÓWNOWAŻONE (BIO)PRODUKTY (BIO)PROCESY i ŚRODOWISKO', '3.I.': 'BIOSUROWCE Metody wykorzystania odnawialnych surowców pochodzenia biologicznego niekonkurencyjnych dla żywności zastępujących surowce nieodnawialne.', '3.II.': 'INNOWACYJNE PROCESY (BIO)TECHNOLOGICZNE', '3.III.': 'BIOPRODUKTY I PRODUKTY CHEMII SPECJALISTYCZNEJ', '3.IV.': 'BIOTECHNOLOGIA W OCHRONIE ŚRODOWISKA', 'KIS 4.': 'ZRÓWNOWAŻONA ENERGIA', '4.I.': 'WYTWARZANIE ENERGII', '4.II.': 'SMART GRIDS / INTELIGENTNE SIECI ELEKTROENERGETYCZNE', '4.III.': 'MAGAZYNOWANIE ENERGII', '4.IV.': 'OZE', '4.V.': 'ENERGETYKA PROSUMENCKA', '4.VI.': 'ENERGIA Z ODPADÓW PALIW ALTERNATYWNYCH I OCHRONA ŚRODOWISKA', 'KIS 5.': 'INTELIGENTNE BUDOWNICTWO ZEROEMISYJNE', '5.I.': 'MATERIAŁY I TECHNOLOGIE ', '5.II.': 'SYSTEMY ENERGETYCZNE BUDYNKÓW', '5.III.': 'ROZWÓJ MASZYN I URZĄDZEŃ', '5.IV.': 'ROZWÓJ APLIKACJI I ŚRODOWISK PROGRAMISTYCZNYCH', '5.V.': 'ZINTEGROWANE PROJEKTOWANIE', '5.VI.': 'WERYFIKACJA ENERGETYCZNA I ŚRODOWISKOWA', '5.VII.': 'PRZETWARZANIE I POWTÓRNE UŻYCIE MATERIAŁÓW', 'KIS 6.': 'TRANSPORT PRZYJAZNY ŚRODOWISKU', '6.I.': 'INNOWACYJNE ŚRODKI TRANSPORTU', '6.II.': 'PROEKOLOGICZNE ROZWIĄZANIA KONSTRUKCYJNE I KOMPONENTY W ŚRODKACH TRANSPORTU', '6.III.': 'SYSTEMY ZARZĄDZANIA TRANSPORTEM', '6.IV.': 'INNOWACYJNE MATERIAŁY W ŚRODKACH TRANSPORTU', '6.V.': 'INNOWACYJNE TECHNOLOGIE PRODUKCJI ŚRODKÓW TRANSPORTU I ICH CZEŚCI', 'KIS 7.': 'GOSPODARKA O OBIEGU ZAMKNIĘTYM', '7.I.': 'EKOPROJEKTOWANIE DLA GOZ', '7.II.': 'POZYSKANIE I WYKORZYSTANIE ZASOBÓW ODNAWIALNYCH I NIEODNAWIALNYCH', '7.III.': 'PRZETWÓRSTWO I PRODUKCJA', '7.IV.': 'UŻYTKOWANIE I KONSUMPCJA', '7.V.': 'ODPADY I ŚCIEKI', 'KIS 8.': 'ZAAWANSOWANE MATERIAŁY I NANOTECHNOLOGIA', '8.I.': 'MATERIAŁY I NANOMATERIAŁY EKOLOGICZNE BIOMIMETYCZNE BIONICZNE I BIODEGRADOWALNE Z UWZGLĘDNIENIEM ŚLADU ŚRODOWISKOWEGO OBIEGU ZAM-KNIĘTEGO MINIMALIZACJI ODPADÓW ORAZ CZYSTSZEJ TECHNOLOGII I NANOTECH-NOLOGII WRAZ Z RACJONALIZACJĄ STOSOWANIA MATERIAŁÓW POLIMEROWYCH', '8.II.': 'WIELOFUNKCYJNE I NANOSTRUKTURALNE MATERIAŁY O RADYKALNIE ZWIĘKSZONEJ NOWEJ FUNKCJONALNOŚCI ORAZ ICH TECHNOLOGIE', '8.III.': 'MATERIAŁY I NANOMATERIAŁY KOMPOZYTOWE ULTRALEKKIE ULTRAWYTRZY-MAŁE I O RADYKALNIE PODWYŻSZONEJ ŻAROODPORNOŚCI I ŻAROWYTRZYMAŁOŚCI', '8.IV.': 'ZAAWANSOWANE MATERIAŁY I NANOMATERIAŁY DLA ENERGII ODNAWIALNEJ DO PRZETWARZANIA MAGAZYNOWANIA I RACJONALIZACJI GOSPODAROWANIA ENERGIĄ', '8.V.': 'MATERIAŁY I NANOMATERIAŁY KOMPOZYTOWE O OSNOWIE LUB WZMOCNIENIU Z NANOWŁÓKIEN NANODRUTÓW I NANORUREK W TYM WĘGLOWYCH I ICH TECHNOLOGIE', '8.VI.': 'ZAAWANSOWANE MATERIAŁY TECHNOLOGIE I NANOTECHNOLOGIE PRODUKTÓW O WYSOKIEJ WARTOŚCI DODANEJ I DUŻYM ZNACZENIU DLA ŁAŃCUCHÓW WARTOŚCI W PRZEMYŚLE WRAZ Z TECHNOLOGIAMI PRZYROSTOWYMI 3D I 4D', '8.VII.': 'ZAAWANSOWANE MATERIAŁY I NANOMATERIAŁY ORAZ TECHNOLOGIE I NANOTECHNOLOGIE DLA CELÓW MEDYCZNYCH I OCHRONY ZDROWIA ORAZ MATERIAŁY INŻYNIERYJNO-BIOLOGICZNE Z UDZIAŁEM ŻYWYCH TKANEK I KOMÓREK', '8.VIII.': 'ZAAWANSOWANE MATERIAŁY I NANOMATERIAŁY ORAZ TECHNOLOGIE I NANO-TECHNOLOGIE DO ZASTOSOWAŃ ZWIĄZANYCH Z BEZPIECZEŃSTWEM', '8.IX.': 'WIELOFUNKCYJNE WARSTWY I NANOWARSTWY PRZECIWZUŻYCIOWE OCHRONNE I O SPECJALNYCH WŁAŚCIWOŚCIACH FIZYKOCHEMICZNYCH ORAZ KOMPOZYTY I NANOKOMPOZYTY PRZESTRZENNE WARSTWOWE SAMOORGANIZUJĄCE SIĘ I SAMONA-PRAWIAJĄCE SIĘ I SAMONAPRAWIALNE', '8.X.': 'MODELOWANIE I SYMULACJA WYKORZYSTANIE BAZ DANYCH I CYFROWYCH BLIŹNIAKÓW W ODNIESIENIU DO STRUKTURY I WŁAŚCIWOŚCI ORAZ KOMPUTEROWE WSPOMAGANIE PROJEKTOWANIA I WYTWARZANIA MATERIAŁÓW I NANOMATERIAŁÓW', 'KIS 9.': 'ELEKTRONIKA I FOTONIKA', '9.I.': 'SENSORY I DETEKTORY (KONSTRUKCJA TECHNOLOGIA MATERIAŁY)', '9.II.': 'TECHNOLOGIE MATERIAŁY I URZĄDZENIA DLA FOTOWOLTAIKI', '9.III.': 'TECHNOLOGIE MATERIAŁY I URZĄDZENIA ŚWIATŁOWODOWE', '9.IV.': 'INNOWACYJNE ŹRÓDŁA PROMIENIOWANIA OPTYCZNEGO (MATERIAŁY TECHNOLOGIE URZĄDZENIA)', '9.V.': 'SYSTEMY ORAZ SIECI SENSOROWE I TELEKOMUNIKACYJNE', '9.VI.': 'INNOWACYJNE UKŁADY I SYSTEMY ELEKTRONIKI OPTOELEKTRONIKI I FOTONIKI SCALONEJ', '9.VII.': 'INNOWACYJNE TECHNOLOGIE I SYSTEMY ELEKTRONIKI DRUKOWANEJ', '9.VIII.': 'ZAGADNIENIA APLIKACYJNE', '9.IX.': 'ZAGADNIENIA HORYZONTALNE W TECHNOLOGIACH SENSOROWYCH I FOTONICZNYCH', 'KIS 10.': 'TECHNOLOGIE INFORMACYJNE KOMUNIKACYJNE ORAZ GEOINFORMACYJNE', '10.I.': 'TECHNOLOGIE INTERNETU PRZYSZŁOŚCI TECHNOLOGIE INTERNETU RZECZY SYSTEMY WBUDOWANE', '10.II.': 'INTELIGENTNE SIECI W INFRASTRUKTURACH', '10.III.': 'ARCHITEKTURY SYSTEMY I APLIKACJE W INTELIGENTNYCH SIECIACH', '10.IV.': 'ZARZĄDZANIE INFORMACJĄ', '10.V.': 'RZECZYWISTOŚĆ MIESZANA ORAZ INTERFEJSY CZŁOWIEK-MASZYNA I MASZYNA-MASZYNA', '10.VI.': 'CYBERBEZPIECZEŃSTWO', '10.VII.': 'ROZWÓJ SZTUCZNEJ INTELIGENCJI', '10.VIII.': 'POZYCJONOWANIE I NAWIGACJA', '10.IX.': 'POZYSKIWANIE GEOINFORMACJI', '10.X.': 'PRZETWARZANIE ANALIZOWANIE UDOSTĘPNIANIE ORAZ WIZUALIZACJA GEOINFORMACJI', '10.XI.': 'GEOINFORMATYKA', '10.XII.': 'INNOWACYJNE ZASTOSOWANIA GEOINFORMACJI', 'KIS 11.': 'AUTOMATYZACJA I ROBOTYKA', '11.I.': 'PROJEKTOWANIE I OPTYMALIZACJA PROCESÓW WYTWARZANIA', '11.II.': 'TECHNOLOGIE AUTOMATYZACJI I ROBOTYZACJI PROCESÓW', '11.III.': 'DIAGNOSTYKA I MONITOROWANIE', '11.IV.': 'SYSTEMY STEROWANIA', '11.V.': 'MASZYNY I URZĄDZENIA AUTOMATYZUJĄCE I ROBOTYZUJĄCE PROCESY', 'KIS 12.': 'PRZEMYSŁY KREATYWNE', '12.I.': 'WZORNICTWO- POJEKTOWANIE', '12.II.': 'GRY', '12.III.': 'MULTIMEDIA', '12.IV.': 'ROZSZERZONA RZECZYWISTOŚĆ (XR)', 'KIS 13.': 'TECHNOLOGIE MORSKIE', '13.I.': 'PROJEKTOWANIE BUDOWA I KONWERSJA SPECJALISTYCZNYCH JEDNOSTEK PŁYWAJĄCYCH ORAZ ICH SPECJALISTYCZNEGO WYPOSAŻENIA', '13.II.': 'PROJEKTOWANIE BUDOWA I PRZEBUDOWA KONSTRUKCJI MORSKICH I PRZYBRZEŻNYCH', '13.III.': 'PROCESY I URZĄDZENIA WYKORZYSTYWANE NA POTRZEBY LOGISTYKI OPARTEJ O TRANSPORT MORSKI I ŚRÓDLĄDOWY', '13.IV.': 'NOWOCZESNE TECHNOLOGIE W PRZEMYŚLE POGŁĘBIARSKIM'}\n",
            "Checking Excel value: 1\n",
            "Checking Excel value: 1.\n",
            "Checking Excel value: 1.I.\n",
            "Mapped 1.I. to BADANIA I ROZWÓJ PRODUKTÓW LECZNICZYCH in row 2\n",
            "Checking Excel value: 1.III.\n",
            "Mapped 1.III. to BADANIA I ROZWÓJ INNOWACYJNYCH SUPLEMENTÓW DIETY I ŚRODKÓW SPOŻYWCZYCH SPECJALNEGO PRZEZNACZENIA ŻYWIENIOWEGO in row 3\n",
            "Checking Excel value: 1.IV.\n",
            "Mapped 1.IV. to URZĄDZENIA I WYROBY MEDYCZNE in row 4\n",
            "Checking Excel value: 1.IX.\n",
            "Mapped 1.IX. to TELEMEDYCYNA in row 5\n",
            "Checking Excel value: 1.V.\n",
            "Mapped 1.V. to TECHNOLOGIE MEDYCZNE in row 6\n",
            "Checking Excel value: 1.VI.\n",
            "Mapped 1.VI. to INFORMATYCZNE NARZĘDZIA MEDYCZNE in row 7\n",
            "Checking Excel value: 1.VII.\n",
            "Mapped 1.VII. to DIAGNOSTYKA OBRAZOWA ORAZ OPARTA NA INNYCH TECHNIKACH DETEKCJI in row 8\n",
            "Checking Excel value: 1.VIII.\n",
            "Mapped 1.VIII. to MARKERY/TESTY in row 9\n",
            "Checking Excel value: 1.XV.\n",
            "Mapped 1.XV. to DERMATOLOGICZNE I KOSMETYCZNE PRODUKTY LECZNICZE DO STOSOWANIA ZEWNĘTRZNEGO; in row 10\n",
            "Checking Excel value: 1.XVI.\n",
            "Mapped 1.XVI. to PRODUKTY LECZNICZE POCHODZENIA NATURALNEGO in row 11\n",
            "Checking Excel value: 10\n",
            "Checking Excel value: 10.\n",
            "Checking Excel value: 10.I.\n",
            "Mapped 10.I. to TECHNOLOGIE INTERNETU PRZYSZŁOŚCI TECHNOLOGIE INTERNETU RZECZY SYSTEMY WBUDOWANE in row 14\n",
            "Checking Excel value: 10.II.\n",
            "Mapped 10.II. to INTELIGENTNE SIECI W INFRASTRUKTURACH in row 15\n",
            "Checking Excel value: 10.III.\n",
            "Mapped 10.III. to ARCHITEKTURY SYSTEMY I APLIKACJE W INTELIGENTNYCH SIECIACH in row 16\n",
            "Checking Excel value: 10.IV.\n",
            "Mapped 10.IV. to ZARZĄDZANIE INFORMACJĄ in row 17\n",
            "Checking Excel value: 10.IX.\n",
            "Mapped 10.IX. to POZYSKIWANIE GEOINFORMACJI in row 18\n",
            "Checking Excel value: 10.V.\n",
            "Mapped 10.V. to RZECZYWISTOŚĆ MIESZANA ORAZ INTERFEJSY CZŁOWIEK-MASZYNA I MASZYNA-MASZYNA in row 19\n",
            "Checking Excel value: 10.VI.\n",
            "Mapped 10.VI. to CYBERBEZPIECZEŃSTWO in row 20\n",
            "Checking Excel value: 10.VII.\n",
            "Mapped 10.VII. to ROZWÓJ SZTUCZNEJ INTELIGENCJI in row 21\n",
            "Checking Excel value: 10.XII.\n",
            "Mapped 10.XII. to INNOWACYJNE ZASTOSOWANIA GEOINFORMACJI in row 22\n",
            "Checking Excel value: 11\n",
            "Checking Excel value: 11.I.\n",
            "Mapped 11.I. to PROJEKTOWANIE I OPTYMALIZACJA PROCESÓW WYTWARZANIA in row 24\n",
            "Checking Excel value: 11.II.\n",
            "Mapped 11.II. to TECHNOLOGIE AUTOMATYZACJI I ROBOTYZACJI PROCESÓW in row 25\n",
            "Checking Excel value: 11.III.\n",
            "Mapped 11.III. to DIAGNOSTYKA I MONITOROWANIE in row 26\n",
            "Checking Excel value: 11.IV.\n",
            "Mapped 11.IV. to SYSTEMY STEROWANIA in row 27\n",
            "Checking Excel value: 11.V.\n",
            "Mapped 11.V. to MASZYNY I URZĄDZENIA AUTOMATYZUJĄCE I ROBOTYZUJĄCE PROCESY in row 28\n",
            "Checking Excel value: 12\n",
            "Checking Excel value: 12.I.\n",
            "Mapped 12.I. to WZORNICTWO- POJEKTOWANIE in row 30\n",
            "Checking Excel value: 12.II.\n",
            "Mapped 12.II. to GRY in row 31\n",
            "Checking Excel value: 12.III.\n",
            "Mapped 12.III. to MULTIMEDIA in row 32\n",
            "Checking Excel value: 13.I.\n",
            "Mapped 13.I. to PROJEKTOWANIE BUDOWA I KONWERSJA SPECJALISTYCZNYCH JEDNOSTEK PŁYWAJĄCYCH ORAZ ICH SPECJALISTYCZNEGO WYPOSAŻENIA in row 33\n",
            "Checking Excel value: 2.I.\n",
            "Mapped 2.I. to ELEMENTY WSPÓLNE DLA INNOWACJI SEKTORA ROLNO-SPOŻYWCZEGO I LEŚNO-DRZEWNEGO in row 34\n",
            "Checking Excel value: 2.II.\n",
            "Mapped 2.II. to GLEBA I UŻYTKI ROLNE in row 35\n",
            "Checking Excel value: 2.III.\n",
            "Mapped 2.III. to POSTĘP BIOLOGICZNY W PRODUKCJI ROŚLINNEJ I ZWIERZĘCEJ in row 36\n",
            "Checking Excel value: 2.IV.\n",
            "Mapped 2.IV. to TECHNOLOGIA PRODUKCJI ROŚLINNEJ I ZWIERZĘCEJ in row 37\n",
            "Checking Excel value: 2.V.\n",
            "Mapped 2.V. to MASZYNY I URZĄDZENIA ROLNICZE in row 38\n",
            "Checking Excel value: 2.VII.\n",
            "Mapped 2.VII. to PRODUKCJA MAGAZYNOWANIE PRZECHOWALNICTWO in row 39\n",
            "Checking Excel value: 2.VIII.\n",
            "Mapped 2.VIII. to PRZETWÓRSTWO PŁODÓW ROLNYCH I PRODUKTÓW ZWIERZĘCYCH in row 40\n",
            "Checking Excel value: 2.XII.\n",
            "Mapped 2.XII. to INNOWACYJNE PRODUKTY DRZEWNE I DREWNOPOCHODNE in row 41\n",
            "Checking Excel value: 2.XIII.\n",
            "Mapped 2.XIII. to INDYWIDUALIZACJA PRODUKCJI MEBLARSKIEJ in row 42\n",
            "Checking Excel value: 2.XIV.\n",
            "Mapped 2.XIV. to INNOWACYJNE PROCESY I PRODUKTY W PRZEMYŚLE CELULOZOWO-PAPIERNICZYM I OPAKOWANIOWYM in row 43\n",
            "Checking Excel value: 3\n",
            "Checking Excel value: 3.I.\n",
            "Mapped 3.I. to BIOSUROWCE Metody wykorzystania odnawialnych surowców pochodzenia biologicznego niekonkurencyjnych dla żywności zastępujących surowce nieodnawialne. in row 45\n",
            "Checking Excel value: 3.III.\n",
            "Mapped 3.III. to BIOPRODUKTY I PRODUKTY CHEMII SPECJALISTYCZNEJ in row 46\n",
            "Checking Excel value: 4.I.\n",
            "Mapped 4.I. to WYTWARZANIE ENERGII in row 47\n",
            "Checking Excel value: 4.II.\n",
            "Mapped 4.II. to SMART GRIDS / INTELIGENTNE SIECI ELEKTROENERGETYCZNE in row 48\n",
            "Checking Excel value: 4.III.\n",
            "Mapped 4.III. to MAGAZYNOWANIE ENERGII in row 49\n",
            "Checking Excel value: 4.IV.\n",
            "Mapped 4.IV. to OZE in row 50\n",
            "Checking Excel value: 5.I.\n",
            "Mapped 5.I. to MATERIAŁY I TECHNOLOGIE  in row 51\n",
            "Checking Excel value: 5.II.\n",
            "Mapped 5.II. to SYSTEMY ENERGETYCZNE BUDYNKÓW in row 52\n",
            "Checking Excel value: 5.III.\n",
            "Mapped 5.III. to ROZWÓJ MASZYN I URZĄDZEŃ in row 53\n",
            "Checking Excel value: 5.VII.\n",
            "Mapped 5.VII. to PRZETWARZANIE I POWTÓRNE UŻYCIE MATERIAŁÓW in row 54\n",
            "Checking Excel value: 6.\n",
            "Checking Excel value: 6.I.\n",
            "Mapped 6.I. to INNOWACYJNE ŚRODKI TRANSPORTU in row 56\n",
            "Checking Excel value: 6.II.\n",
            "Mapped 6.II. to PROEKOLOGICZNE ROZWIĄZANIA KONSTRUKCYJNE I KOMPONENTY W ŚRODKACH TRANSPORTU in row 57\n",
            "Checking Excel value: 6.IV.\n",
            "Mapped 6.IV. to INNOWACYJNE MATERIAŁY W ŚRODKACH TRANSPORTU in row 58\n",
            "Checking Excel value: 6.V.\n",
            "Mapped 6.V. to INNOWACYJNE TECHNOLOGIE PRODUKCJI ŚRODKÓW TRANSPORTU I ICH CZEŚCI in row 59\n",
            "Checking Excel value: 7\n",
            "Checking Excel value: 7.\n",
            "Checking Excel value: 7.I.\n",
            "Mapped 7.I. to EKOPROJEKTOWANIE DLA GOZ in row 62\n",
            "Checking Excel value: 7.III.\n",
            "Mapped 7.III. to PRZETWÓRSTWO I PRODUKCJA in row 63\n",
            "Checking Excel value: 7.V.\n",
            "Mapped 7.V. to ODPADY I ŚCIEKI in row 64\n",
            "Checking Excel value: 8\n",
            "Checking Excel value: 8.I.\n",
            "Mapped 8.I. to MATERIAŁY I NANOMATERIAŁY EKOLOGICZNE BIOMIMETYCZNE BIONICZNE I BIODEGRADOWALNE Z UWZGLĘDNIENIEM ŚLADU ŚRODOWISKOWEGO OBIEGU ZAM-KNIĘTEGO MINIMALIZACJI ODPADÓW ORAZ CZYSTSZEJ TECHNOLOGII I NANOTECH-NOLOGII WRAZ Z RACJONALIZACJĄ STOSOWANIA MATERIAŁÓW POLIMEROWYCH in row 66\n",
            "Checking Excel value: 8.III.\n",
            "Mapped 8.III. to MATERIAŁY I NANOMATERIAŁY KOMPOZYTOWE ULTRALEKKIE ULTRAWYTRZY-MAŁE I O RADYKALNIE PODWYŻSZONEJ ŻAROODPORNOŚCI I ŻAROWYTRZYMAŁOŚCI in row 67\n",
            "Checking Excel value: 8.IV.\n",
            "Mapped 8.IV. to ZAAWANSOWANE MATERIAŁY I NANOMATERIAŁY DLA ENERGII ODNAWIALNEJ DO PRZETWARZANIA MAGAZYNOWANIA I RACJONALIZACJI GOSPODAROWANIA ENERGIĄ in row 68\n",
            "Checking Excel value: 8.IX.\n",
            "Mapped 8.IX. to WIELOFUNKCYJNE WARSTWY I NANOWARSTWY PRZECIWZUŻYCIOWE OCHRONNE I O SPECJALNYCH WŁAŚCIWOŚCIACH FIZYKOCHEMICZNYCH ORAZ KOMPOZYTY I NANOKOMPOZYTY PRZESTRZENNE WARSTWOWE SAMOORGANIZUJĄCE SIĘ I SAMONA-PRAWIAJĄCE SIĘ I SAMONAPRAWIALNE in row 69\n",
            "Checking Excel value: 8.VIII.\n",
            "Mapped 8.VIII. to ZAAWANSOWANE MATERIAŁY I NANOMATERIAŁY ORAZ TECHNOLOGIE I NANO-TECHNOLOGIE DO ZASTOSOWAŃ ZWIĄZANYCH Z BEZPIECZEŃSTWEM in row 70\n",
            "Checking Excel value: 9\n",
            "Checking Excel value: 9.\n",
            "Checking Excel value: 9.VI.\n",
            "Mapped 9.VI. to INNOWACYJNE UKŁADY I SYSTEMY ELEKTRONIKI OPTOELEKTRONIKI I FOTONIKI SCALONEJ in row 73\n",
            "Checking Excel value: 9.VII.\n",
            "Mapped 9.VII. to INNOWACYJNE TECHNOLOGIE I SYSTEMY ELEKTRONIKI DRUKOWANEJ in row 74\n",
            "Checking Excel value: 9.VIII.\n",
            "Mapped 9.VIII. to ZAGADNIENIA APLIKACYJNE in row 75\n",
            "Checking Excel value: ND\n",
            "Result saved to um.obsz.agg.op.324.xlsx\n"
          ]
        },
        {
          "output_type": "stream",
          "name": "stderr",
          "text": [
            "<ipython-input-7-157f47dd3443>:19: FutureWarning: Setting an item of incompatible dtype is deprecated and will raise in a future error of pandas. Value '0     None\n",
            "1     None\n",
            "2     None\n",
            "3     None\n",
            "4     None\n",
            "      ... \n",
            "72    None\n",
            "73    None\n",
            "74    None\n",
            "75    None\n",
            "76    None\n",
            "Length: 77, dtype: object' has dtype incompatible with float64, please explicitly cast to a compatible dtype first.\n",
            "  df_excel.iloc[:, 4] = pd.Series([None] * len(df_excel), dtype='object')  # Clear existing column 5 if it exists\n"
          ]
        }
      ]
    }
  ]
}