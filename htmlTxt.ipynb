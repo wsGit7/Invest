{
  "nbformat": 4,
  "nbformat_minor": 0,
  "metadata": {
    "colab": {
      "provenance": [],
      "authorship_tag": "ABX9TyNQLsUn6bvDTUeEna+hV9Fb",
      "include_colab_link": true
    },
    "kernelspec": {
      "name": "python3",
      "display_name": "Python 3"
    },
    "language_info": {
      "name": "python"
    }
  },
  "cells": [
    {
      "cell_type": "markdown",
      "metadata": {
        "id": "view-in-github",
        "colab_type": "text"
      },
      "source": [
        "<a href=\"https://colab.research.google.com/github/wsGit7/Invest/blob/main/htmlTxt.ipynb\" target=\"_parent\"><img src=\"https://colab.research.google.com/assets/colab-badge.svg\" alt=\"Open In Colab\"/></a>"
      ]
    },
    {
      "cell_type": "code",
      "execution_count": 1,
      "metadata": {
        "colab": {
          "base_uri": "https://localhost:8080/"
        },
        "id": "wPxfUOU1pnjY",
        "outputId": "c5f870cb-3c64-4794-bc17-5ca330202042"
      },
      "outputs": [
        {
          "output_type": "stream",
          "name": "stdout",
          "text": [
            "Requirement already satisfied: beautifulsoup4 in /usr/local/lib/python3.11/dist-packages (4.13.3)\n",
            "Requirement already satisfied: soupsieve>1.2 in /usr/local/lib/python3.11/dist-packages (from beautifulsoup4) (2.6)\n",
            "Requirement already satisfied: typing-extensions>=4.0.0 in /usr/local/lib/python3.11/dist-packages (from beautifulsoup4) (4.12.2)\n"
          ]
        }
      ],
      "source": [
        "!pip install beautifulsoup4"
      ]
    },
    {
      "cell_type": "code",
      "source": [
        "from bs4 import BeautifulSoup\n",
        "\n",
        "def html_to_txt(html_file, txt_file):\n",
        "    # Read the HTML file\n",
        "    with open(html_file, 'r', encoding='utf-8') as file:\n",
        "        html_content = file.read()\n",
        "\n",
        "    # Parse the HTML content using BeautifulSoup\n",
        "    soup = BeautifulSoup(html_content, 'html.parser')\n",
        "\n",
        "    # Extract all the text from the HTML\n",
        "    text = soup.get_text()\n",
        "\n",
        "    # Write the extracted text to the txt file\n",
        "    with open(txt_file, 'w', encoding='utf-8') as file:\n",
        "        file.write(text)\n",
        "\n",
        "# Example usage\n",
        "html_file = '/content/Microsoft Copilot_ Twój pomocnik AI 270225.html'\n",
        "txt_file = 'urzMian.txt'\n",
        "html_to_txt(html_file, txt_file)\n"
      ],
      "metadata": {
        "id": "JIO_KpdZp0Lk"
      },
      "execution_count": 2,
      "outputs": []
    },
    {
      "cell_type": "code",
      "source": [
        "from bs4 import BeautifulSoup\n",
        "\n",
        "def html_to_txt(html_file, txt_file):\n",
        "    # Read the HTML file\n",
        "    with open(html_file, 'r', encoding='utf-8') as file:\n",
        "        html_content = file.read()\n",
        "\n",
        "    # Parse the HTML content using BeautifulSoup\n",
        "    soup = BeautifulSoup(html_content, 'html.parser')\n",
        "\n",
        "    # Extract all paragraphs from the HTML and add empty lines after each\n",
        "    paragraphs = soup.find_all('p')\n",
        "\n",
        "    text = ''\n",
        "    for paragraph in paragraphs:\n",
        "        text += paragraph.get_text() + '\\n\\n'\n",
        "\n",
        "    # Write the formatted text to the txt file\n",
        "    with open(txt_file, 'w', encoding='utf-8') as file:\n",
        "        file.write(text)\n",
        "\n",
        "# Example usage\n",
        "html_file = '/content/Microsoft Copilot_ Twój pomocnik AI.html2.html'\n",
        "txt_file = 'urzMian2.txt'\n",
        "html_to_txt(html_file, txt_file)\n"
      ],
      "metadata": {
        "id": "NpPRUcU6SLcq"
      },
      "execution_count": 3,
      "outputs": []
    }
  ]
}